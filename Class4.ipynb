{
  "nbformat": 4,
  "nbformat_minor": 0,
  "metadata": {
    "colab": {
      "provenance": [],
      "toc_visible": true,
      "collapsed_sections": [
        "lSwBx9EDNZa-",
        "b9jCVpnehywm",
        "UBU8LQtof3F9",
        "m8DOoadGX-5D",
        "cb1pCPepitdb",
        "Bm4LB1UJj1Vt",
        "GBf7moJjafJ3",
        "iNVVSXY-a6wO",
        "SyawB3fOgsyq",
        "YWSCKZMep9bS",
        "GAI6ITdlh6OK",
        "quGVR3U_kNsc",
        "P8BeSTMkajS-",
        "QA_kDfgSubBB"
      ],
      "authorship_tag": "ABX9TyMtGHxgQqZmqDSjcMr5urz6",
      "include_colab_link": true
    },
    "kernelspec": {
      "name": "python3",
      "display_name": "Python 3"
    },
    "language_info": {
      "name": "python"
    }
  },
  "cells": [
    {
      "cell_type": "markdown",
      "metadata": {
        "id": "view-in-github",
        "colab_type": "text"
      },
      "source": [
        "<a href=\"https://colab.research.google.com/github/youngmoo/ENGR-131/blob/main/Class4.ipynb\" target=\"_parent\"><img src=\"https://colab.research.google.com/assets/colab-badge.svg\" alt=\"Open In Colab\"/></a>"
      ]
    },
    {
      "cell_type": "markdown",
      "source": [
        "# Homework Assignments for Week 4\n",
        "\n",
        "1. Lab tomorrow\n",
        "  * Really try to finish the work in class.\n",
        "\n",
        "2. Homework problems (zyBooks \"Labs\"), due Mon. 5/1 at 12:00 PM\n",
        "  * 8.12: The Caesar Cipher\n",
        "  * 9.27: Filter and sort a list\n",
        "  * 9.32: Replacement words\n",
        "  * 9.36: Word frequencies (using dictionaries)\n",
        "\n",
        "3. Reading\n",
        "  * It would still useful to review zyBooks Chapters 8 and 9 before we move on to new material next Monday."
      ],
      "metadata": {
        "id": "_Yk4vX64q-bP"
      }
    },
    {
      "cell_type": "markdown",
      "source": [
        "# Last week: Functions\n",
        "\n",
        "Functions collect code that you'll use over and over into a single unit.\n",
        "\n",
        "* Functions limit code redundancy and reduce errors\n",
        "* Functions allow you to think about code at a higher level: **modular development**.\n",
        "* Functions improve readability of your code (for yourself and others)\n",
        "\n",
        "## Function overview\n",
        "* Input parameters\n",
        "  * Keywords & default values\n",
        "  * Arbitrary argument lists\n",
        "* Return output(s)\n",
        "* Scope of variables in functions\n",
        "* Nested functions (functions inside functions)\n",
        "* Passing functions to functions\n"
      ],
      "metadata": {
        "id": "lSwBx9EDNZa-"
      }
    },
    {
      "cell_type": "markdown",
      "source": [
        "## Docstrings\n",
        "\n",
        "Documenting what your functions do."
      ],
      "metadata": {
        "id": "7kvD7Vc8V5yX"
      }
    },
    {
      "cell_type": "code",
      "source": [
        "def my_awesome_function():\n",
        "  '''\n",
        "  This function does amazing, world-changing things!!\n",
        "  You shoud only use it when absolutely necessary.\n",
        "  Remember, with great power comes great responsibility!\n",
        "  '''\n",
        "  print(\"You are not Spider Man\")\n",
        "\n",
        "help(my_awesome_function)"
      ],
      "metadata": {
        "id": "J0b-9UaZtckM"
      },
      "execution_count": null,
      "outputs": []
    },
    {
      "cell_type": "markdown",
      "source": [
        "# More about Strings"
      ],
      "metadata": {
        "id": "b9jCVpnehywm"
      }
    },
    {
      "cell_type": "code",
      "source": [
        "url = 'https://drexel.edu/engineering/academics/departments/electrical-computer-engineering/'\n",
        "\n"
      ],
      "metadata": {
        "id": "IEQUKuN7wMJj"
      },
      "execution_count": null,
      "outputs": []
    },
    {
      "cell_type": "code",
      "source": [],
      "metadata": {
        "id": "ked1aJWXwjP2"
      },
      "execution_count": null,
      "outputs": []
    },
    {
      "cell_type": "markdown",
      "source": [
        "## String methods\n",
        "\n",
        "Find and replace within a string."
      ],
      "metadata": {
        "id": "UBU8LQtof3F9"
      }
    },
    {
      "cell_type": "code",
      "source": [],
      "metadata": {
        "id": "7h4tuc2If_1V"
      },
      "execution_count": null,
      "outputs": []
    },
    {
      "cell_type": "markdown",
      "source": [
        "### More string methods\n",
        "\n",
        "Types of characters and capitalization styles."
      ],
      "metadata": {
        "id": "m8DOoadGX-5D"
      }
    },
    {
      "cell_type": "code",
      "source": [
        "van_halen_1988 = 'OU812'\n",
        "van_halen_1986 = '5150'\n",
        "\n"
      ],
      "metadata": {
        "id": "uZNZkavZgEuN"
      },
      "execution_count": null,
      "outputs": []
    },
    {
      "cell_type": "code",
      "source": [
        "kingsman = 'Manners maketh man.     '\n",
        "\n"
      ],
      "metadata": {
        "id": "lqVzAzmwhycV"
      },
      "execution_count": null,
      "outputs": []
    },
    {
      "cell_type": "markdown",
      "source": [
        "## Splitting and joining strings\n",
        "\n",
        "Separate different parts of a string."
      ],
      "metadata": {
        "id": "cb1pCPepitdb"
      }
    },
    {
      "cell_type": "code",
      "source": [],
      "metadata": {
        "id": "VXQNalDEh-Mx"
      },
      "execution_count": null,
      "outputs": []
    },
    {
      "cell_type": "markdown",
      "source": [
        "### CSV: Comma-separated values"
      ],
      "metadata": {
        "id": "Bm4LB1UJj1Vt"
      }
    },
    {
      "cell_type": "code",
      "source": [
        "csv_txt = 'First name,Last name,Street address,City,State,Zip,Phone number'\n",
        "\n"
      ],
      "metadata": {
        "id": "dEJyQ7oSjaAz"
      },
      "execution_count": null,
      "outputs": []
    },
    {
      "cell_type": "markdown",
      "source": [
        "# Lists: Fancy operations\n"
      ],
      "metadata": {
        "id": "GBf7moJjafJ3"
      }
    },
    {
      "cell_type": "markdown",
      "source": [
        "## Basic list “slicing”\n",
        "\n",
        "Accessing entries within a list."
      ],
      "metadata": {
        "id": "iNVVSXY-a6wO"
      }
    },
    {
      "cell_type": "code",
      "source": [
        "a_list = [0,1,2,3,4,5,6,7]\n"
      ],
      "metadata": {
        "id": "MVpv7o35asIh"
      },
      "execution_count": null,
      "outputs": []
    },
    {
      "cell_type": "markdown",
      "source": [
        "## In-place list modification"
      ],
      "metadata": {
        "id": "SyawB3fOgsyq"
      }
    },
    {
      "cell_type": "code",
      "source": [],
      "metadata": {
        "id": "g6zl6GJUckvZ"
      },
      "execution_count": null,
      "outputs": []
    },
    {
      "cell_type": "markdown",
      "source": [
        "### Sorting a list"
      ],
      "metadata": {
        "id": "NMnG9A8oY1Ky"
      }
    },
    {
      "cell_type": "code",
      "source": [
        "# Make a random list\n"
      ],
      "metadata": {
        "id": "7MrzhhQNcv2s"
      },
      "execution_count": null,
      "outputs": []
    },
    {
      "cell_type": "markdown",
      "source": [
        "## Not-in-place sorting\n",
        "\n",
        "Use the `sorted()` function,"
      ],
      "metadata": {
        "id": "YWSCKZMep9bS"
      }
    },
    {
      "cell_type": "code",
      "source": [
        "playoff_teams = ['Bucks','Celtics','Sixers','Cavs','Knicks','Nets','Hawks','Heat']\n",
        "\n"
      ],
      "metadata": {
        "id": "WrF_zf1xpO_8"
      },
      "execution_count": null,
      "outputs": []
    },
    {
      "cell_type": "markdown",
      "source": [
        "## Iterating over lists"
      ],
      "metadata": {
        "id": "GAI6ITdlh6OK"
      }
    },
    {
      "cell_type": "code",
      "source": [],
      "metadata": {
        "id": "RhRgVmtqjqyZ"
      },
      "execution_count": null,
      "outputs": []
    },
    {
      "cell_type": "markdown",
      "source": [
        "### List *comprehensions*"
      ],
      "metadata": {
        "id": "_0uwjpmbnhNw"
      }
    },
    {
      "cell_type": "code",
      "source": [],
      "metadata": {
        "id": "7ZFczKO_njVc"
      },
      "execution_count": null,
      "outputs": []
    },
    {
      "cell_type": "markdown",
      "source": [
        "## Lists of lists\n",
        "\n",
        "Lists can consist of other lists, to store more complex data."
      ],
      "metadata": {
        "id": "quGVR3U_kNsc"
      }
    },
    {
      "cell_type": "code",
      "source": [
        "playoff_matchups = [ ['Bucks','Heat'],['Celtics','Hawks'],\n",
        "                     ['Sixers','Nets'],['Cavs','Knicks'] ]\n"
      ],
      "metadata": {
        "id": "Eh9UUIDHkO8j"
      },
      "execution_count": null,
      "outputs": []
    },
    {
      "cell_type": "markdown",
      "source": [
        "# Dictionaries: Fancy data"
      ],
      "metadata": {
        "id": "P8BeSTMkajS-"
      }
    },
    {
      "cell_type": "code",
      "source": [
        "# Make it a dictionary\n",
        "playoff_teams = {1:'Bucks',2:'Celtics',3:'Sixers',4:'Cavs',\n",
        "              5:'Knicks',6:'Nets',7:'Hawks',8:'Heat'}\n"
      ],
      "metadata": {
        "id": "8OwiQJf1qH0r"
      },
      "execution_count": null,
      "outputs": []
    },
    {
      "cell_type": "code",
      "source": [
        "better_list = {1:'Bucks-No Giannis!', 2:'Celtics suck!', 4:'Who cares?',\n",
        "               5:'New York K-nits', 6:'Gone!', 7:'Tra who?', 8:'Miami Cold'}\n",
        "\n"
      ],
      "metadata": {
        "id": "P7pNOh6kswXG"
      },
      "execution_count": null,
      "outputs": []
    },
    {
      "cell_type": "markdown",
      "source": [
        "## Nested Dictionaries & Data\n",
        "\n",
        "\n"
      ],
      "metadata": {
        "id": "QA_kDfgSubBB"
      }
    },
    {
      "cell_type": "code",
      "source": [
        "BucksWL = [58,25]\n",
        "CelticsWL = [57,25]\n",
        "SixersWL = [54,28]\n",
        "CavsWL = [51,31]\n",
        "KnicksWL = [47,35]\n",
        "NetsWL = [45,37]\n",
        "HawksWL = [41,41]\n",
        "HeatWL = [44,38]"
      ],
      "metadata": {
        "id": "BVO21N-Iky5S"
      },
      "execution_count": null,
      "outputs": []
    },
    {
      "cell_type": "code",
      "source": [
        "NuggetsWL = [53,29]\n",
        "GrizzliesWL = [51,31]\n",
        "KingsWL = [48,34]\n",
        "SunsWL = [45,37]\n",
        "ClippersWL = [44,38]\n",
        "WarriorsWL = [44,38]\n",
        "LakersWL = [43,39]\n",
        "TimberwolvesWL = [42,40]"
      ],
      "metadata": {
        "id": "Dfh9OnFVk0O2"
      },
      "execution_count": null,
      "outputs": []
    },
    {
      "cell_type": "code",
      "source": [
        "East_playoffs = { 1:{'Bucks':BucksWL}, 2:{'Celtics':CelticsWL},\n",
        "                  3:{'Sixers':SixersWL}, 4:{'Cavs':CavsWL},\n",
        "                  5:{'Knicks':KnicksWL}, 6:{'Nets':NetsWL},\n",
        "                  7:{'Hawks':HawksWL}, 8:{'Heat':HeatWL} }\n",
        "                 "
      ],
      "metadata": {
        "id": "spEaSexTlM27"
      },
      "execution_count": null,
      "outputs": []
    },
    {
      "cell_type": "markdown",
      "source": [
        "Let's add some fancy string formatting.\n"
      ],
      "metadata": {
        "id": "46MB_R1_ZkX6"
      }
    },
    {
      "cell_type": "code",
      "source": [],
      "metadata": {
        "id": "0--501yXudBb"
      },
      "execution_count": null,
      "outputs": []
    }
  ]
}