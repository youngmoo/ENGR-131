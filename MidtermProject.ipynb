{
  "nbformat": 4,
  "nbformat_minor": 0,
  "metadata": {
    "colab": {
      "provenance": [],
      "include_colab_link": true
    },
    "kernelspec": {
      "name": "python3",
      "display_name": "Python 3"
    },
    "language_info": {
      "name": "python"
    }
  },
  "cells": [
    {
      "cell_type": "markdown",
      "metadata": {
        "id": "view-in-github",
        "colab_type": "text"
      },
      "source": [
        "<a href=\"https://colab.research.google.com/github/youngmoo/ENGR-131/blob/main/MidtermProject.ipynb\" target=\"_parent\"><img src=\"https://colab.research.google.com/assets/colab-badge.svg\" alt=\"Open In Colab\"/></a>"
      ]
    },
    {
      "cell_type": "markdown",
      "source": [
        "# ENGR 131 Midterm Project\n",
        "\n",
        "In this midterm assignment you will be using the Python skills you've acquired thus far to make a creative project. Specifically, you will be building a mini **choose-your-own-adventure game**. In this style of game, the player is presented with a story. At certain points they are prompted to make decisions that alter the outcome of the story. \n",
        " "
      ],
      "metadata": {
        "id": "5j6qILas4CcW"
      }
    },
    {
      "cell_type": "markdown",
      "source": [
        "## Rubric\n",
        "\n",
        "This is an opportunity to hone your coding skills and make something fun. Your project will be evaluated based on 4 criteria:\n",
        "\n",
        "\n",
        "*   **Functionality** `(40 pts)`: Can the game be played without encountering errors?\n",
        "*   **User Experience** `(30 pts)`: Is interacting with the game made clear and easy?  \n",
        "*   **Creativity** `(20 pts)`: Is the game fun and engaging?\n",
        "*   **Documentation** `(10 pts)`: Is the code well-commented?"
      ],
      "metadata": {
        "id": "pKsmq1S980lm"
      }
    },
    {
      "cell_type": "markdown",
      "source": [
        "## Requirements\n",
        "\n",
        "1.   You build your project in a Google Colab notebook, submitting to Bb Learn a `.ipynb` file. (In Colab, select `File>Download>Download .ipynb`.)\n",
        "2.   Your project includes examples of the various coding concepts discussed in class: input/output, branches, loops, functions, and lists/tuples/dictionaries.\n",
        "3.   Your code is well documented. Use comments and docstrings to explain the logic behind your code.\n",
        "4.   Your game can be started by running all the notebook cells in order. (As long as this holds, you may organize your code in anyway you like.)\n",
        "5.   Your game includes at least `10` screens (at least `5` with images) and at least \n",
        "`7` decisions to be made by the player.\n",
        "6.   Your game has an end state. (It does not loop forever.) "
      ],
      "metadata": {
        "id": "R9_308fX7_yz"
      }
    },
    {
      "cell_type": "markdown",
      "source": [
        "## Hints/Examples for Getting Started\n",
        "\n",
        "Here are some code examples that you may use/change to your liking. They showcase features that will be useful in making a fun and engaging game."
      ],
      "metadata": {
        "id": "laCumtcdBILG"
      }
    },
    {
      "cell_type": "markdown",
      "source": [
        "### Handling input/output\n",
        "\n",
        "Use the `print` function to display output to the player.\n",
        "\n",
        "Use the `input` function to gather input from the player."
      ],
      "metadata": {
        "id": "oSb6U81MCz50"
      }
    },
    {
      "cell_type": "code",
      "source": [
        "print(\"Welcome to the game.\")\n",
        "name = input(\"Enter your name: \")\n",
        "print(f\"Hello {name}. You find yourself in a locked room...\")"
      ],
      "metadata": {
        "id": "aW1rr-M8CzE9"
      },
      "execution_count": null,
      "outputs": []
    },
    {
      "cell_type": "markdown",
      "source": [
        "### Waiting (for dramatic effect)\n",
        "\n",
        "The function `time.sleep` can be called, specifying an amount of seconds to wait before the next line of code is run."
      ],
      "metadata": {
        "id": "UeHOEOBxF3NL"
      }
    },
    {
      "cell_type": "code",
      "source": [
        "import time\n",
        "\n",
        "print(\"You turn around the corner and see\", end=\"\")\n",
        "\n",
        "for i in range(3):\n",
        "    print(\".\", end=\"\")\n",
        "    time.sleep(1) # wait for 1 second\n",
        "\n",
        "print(\"a bear!\")"
      ],
      "metadata": {
        "id": "GMX-aMw3Iyq4"
      },
      "execution_count": null,
      "outputs": []
    },
    {
      "cell_type": "markdown",
      "source": [
        "### Clearing the output\n",
        "\n",
        "You may wish to use the `clear_output` function to erase things you've already printed."
      ],
      "metadata": {
        "id": "SiBrW_reGBPX"
      }
    },
    {
      "cell_type": "code",
      "source": [
        "from IPython.display import clear_output\n",
        "\n",
        "print(\"A long time ago\")\n",
        "time.sleep(2)\n",
        "clear_output(wait=True)\n",
        "print(\"in a galaxy far far away\")"
      ],
      "metadata": {
        "id": "SQRUxmRZGBPX"
      },
      "execution_count": null,
      "outputs": []
    },
    {
      "cell_type": "markdown",
      "source": [
        "### Showing Images\n",
        "\n",
        "You can may use the provided `show_image` function to display an image from a url."
      ],
      "metadata": {
        "id": "MImFmtktidvK"
      }
    },
    {
      "cell_type": "code",
      "source": [
        "from IPython.display import HTML\n",
        "\n",
        "def show_image(url, width=None):\n",
        "\n",
        "    tag = f\"<center><img src={url} width={width}></center>\"\n",
        "\n",
        "    display(HTML(tag))\n",
        "\n",
        "print(\"You find yourself in a spooky hallway.\")\n",
        "show_image(\"https://cdn.pixabay.com/photo/2017/06/18/17/30/hallway-2416517_1280.jpg\", width=200)"
      ],
      "metadata": {
        "id": "44MLVq9VidXe",
        "colab": {
          "base_uri": "https://localhost:8080/",
          "height": 361
        },
        "outputId": "8110d956-47c8-4c26-ded9-beafbee8535b"
      },
      "execution_count": null,
      "outputs": [
        {
          "output_type": "stream",
          "name": "stdout",
          "text": [
            "You find yourself in a spooky hallway.\n"
          ]
        },
        {
          "output_type": "display_data",
          "data": {
            "text/plain": [
              "<IPython.core.display.HTML object>"
            ],
            "text/html": [
              "<center><img src=https://cdn.pixabay.com/photo/2017/06/18/17/30/hallway-2416517_1280.jpg width=200></center>"
            ]
          },
          "metadata": {}
        }
      ]
    },
    {
      "cell_type": "markdown",
      "source": [
        "### Implementing multiple choice"
      ],
      "metadata": {
        "id": "eU7BsmlCCf7j"
      }
    },
    {
      "cell_type": "code",
      "source": [
        "def multiple_choice(options):\n",
        "    '''add docstring'''\n",
        "    while True: # loop forever...until we break\n",
        "        for number, text in options.items():\n",
        "            print(f\"\\t{number}: {text}\") \n",
        "        choice = input(\"\\nEnter a number: \")\n",
        "        if choice.isdigit() and int(choice) in options.keys():\n",
        "            return int(choice)\n",
        "        else:\n",
        "            clear_output(wait=True)\n",
        "            print(\"\\nInvalid option. Try again.\")\n",
        "\n",
        "curr_options = {1:\"Go left\", 2:\"Go right\", 3:\"Turn around\"}\n",
        "curr_choice = multiple_choice(curr_options)\n",
        "print(f\"You selected \\\"{curr_options[curr_choice]}.\\\"\")\n"
      ],
      "metadata": {
        "id": "PVHowA30KgFs"
      },
      "execution_count": null,
      "outputs": []
    },
    {
      "cell_type": "markdown",
      "source": [
        "### Storing the game content\n",
        "\n",
        "Here is one way you might consider organzining the content of your game. Int his example, the content is grouped into \"pages\" where each page has a string of text, and a dictionary of multiple options. Each dictionary key refers to the index of the page the you move to by selecting that choice."
      ],
      "metadata": {
        "id": "MjusD0cUC_ow"
      }
    },
    {
      "cell_type": "code",
      "source": [
        "# Page 0\n",
        "Text_0 = \"You find yourself in a room with two doors 🚪, one red and one blue.\\nWhat do you do?\"\n",
        "Options_0 = {   1 : \"enter the red door\",\n",
        "                2 : \"enter the blue door\"}\n",
        "Page_0 = (Text_0, Options_0)\n",
        "\n",
        "# Page 1\n",
        "Text_1 = \"You find yourself in a room with one red door. \\nWhat do you do?\"\n",
        "Options_1 = {   0 : \"go back through the red door\"}\n",
        "Page_1 = (Text_1, Options_1)\n",
        "\n",
        "# Page 2\n",
        "Text_2 = \"You find yourself in a room with one blue door. \\nWhat do you do?\"\n",
        "Options_2 = {   0 : \"go back through the blue door\"}\n",
        "Page_2 = (Text_2, Options_2)\n",
        "\n",
        "Pages = (Page_0, Page_1, Page_2)"
      ],
      "metadata": {
        "id": "MjWFfQ4wBqKf"
      },
      "execution_count": null,
      "outputs": []
    },
    {
      "cell_type": "markdown",
      "source": [
        "### Moving between pages\n",
        "\n",
        "Here is an example that demonstrates one way to control the flow of moving between pages. \n",
        "\n",
        "This example goes on forever until it is canceled! Your game will need to terminate."
      ],
      "metadata": {
        "id": "gQAyZzmDI75n"
      }
    },
    {
      "cell_type": "code",
      "source": [
        "curr_page = 0\n",
        "\n",
        "while True:\n",
        "\n",
        "    text, options = Pages[curr_page]\n",
        "\n",
        "    print(text)\n",
        "\n",
        "    time.sleep(1)\n",
        "\n",
        "    choice = multiple_choice(options)\n",
        "\n",
        "    curr_page = choice\n",
        "\n",
        "    clear_output(wait=True)"
      ],
      "metadata": {
        "id": "RDgIhWnsI8ur",
        "colab": {
          "base_uri": "https://localhost:8080/",
          "height": 671
        },
        "outputId": "798067d4-be2d-4ca6-f07c-ab1395f5a363"
      },
      "execution_count": null,
      "outputs": [
        {
          "output_type": "stream",
          "name": "stdout",
          "text": [
            "You find yourself in a room with two doors 🚪, one red and one blue.\n",
            "What do you do?\n",
            "\t1: enter the red door\n",
            "\t2: enter the blue door\n"
          ]
        },
        {
          "output_type": "error",
          "ename": "KeyboardInterrupt",
          "evalue": "ignored",
          "traceback": [
            "\u001b[0;31m---------------------------------------------------------------------------\u001b[0m",
            "\u001b[0;31mKeyboardInterrupt\u001b[0m                         Traceback (most recent call last)",
            "\u001b[0;32m<ipython-input-11-722ad96fefff>\u001b[0m in \u001b[0;36m<cell line: 3>\u001b[0;34m()\u001b[0m\n\u001b[1;32m      9\u001b[0m     \u001b[0mtime\u001b[0m\u001b[0;34m.\u001b[0m\u001b[0msleep\u001b[0m\u001b[0;34m(\u001b[0m\u001b[0;36m1\u001b[0m\u001b[0;34m)\u001b[0m\u001b[0;34m\u001b[0m\u001b[0;34m\u001b[0m\u001b[0m\n\u001b[1;32m     10\u001b[0m \u001b[0;34m\u001b[0m\u001b[0m\n\u001b[0;32m---> 11\u001b[0;31m     \u001b[0mchoice\u001b[0m \u001b[0;34m=\u001b[0m \u001b[0mmultiple_choice\u001b[0m\u001b[0;34m(\u001b[0m\u001b[0moptions\u001b[0m\u001b[0;34m)\u001b[0m\u001b[0;34m\u001b[0m\u001b[0;34m\u001b[0m\u001b[0m\n\u001b[0m\u001b[1;32m     12\u001b[0m \u001b[0;34m\u001b[0m\u001b[0m\n\u001b[1;32m     13\u001b[0m     \u001b[0mcurr_page\u001b[0m \u001b[0;34m=\u001b[0m \u001b[0mchoice\u001b[0m\u001b[0;34m\u001b[0m\u001b[0;34m\u001b[0m\u001b[0m\n",
            "\u001b[0;32m<ipython-input-9-a61431e358f0>\u001b[0m in \u001b[0;36mmultiple_choice\u001b[0;34m(options)\u001b[0m\n\u001b[1;32m      4\u001b[0m         \u001b[0;32mfor\u001b[0m \u001b[0mnumber\u001b[0m\u001b[0;34m,\u001b[0m \u001b[0mtext\u001b[0m \u001b[0;32min\u001b[0m \u001b[0moptions\u001b[0m\u001b[0;34m.\u001b[0m\u001b[0mitems\u001b[0m\u001b[0;34m(\u001b[0m\u001b[0;34m)\u001b[0m\u001b[0;34m:\u001b[0m\u001b[0;34m\u001b[0m\u001b[0;34m\u001b[0m\u001b[0m\n\u001b[1;32m      5\u001b[0m             \u001b[0mprint\u001b[0m\u001b[0;34m(\u001b[0m\u001b[0;34mf\"\\t{number}: {text}\"\u001b[0m\u001b[0;34m)\u001b[0m\u001b[0;34m\u001b[0m\u001b[0;34m\u001b[0m\u001b[0m\n\u001b[0;32m----> 6\u001b[0;31m         \u001b[0mchoice\u001b[0m \u001b[0;34m=\u001b[0m \u001b[0minput\u001b[0m\u001b[0;34m(\u001b[0m\u001b[0;34m\"\\nEnter a number: \"\u001b[0m\u001b[0;34m)\u001b[0m\u001b[0;34m\u001b[0m\u001b[0;34m\u001b[0m\u001b[0m\n\u001b[0m\u001b[1;32m      7\u001b[0m         \u001b[0;32mif\u001b[0m \u001b[0mchoice\u001b[0m\u001b[0;34m.\u001b[0m\u001b[0misdigit\u001b[0m\u001b[0;34m(\u001b[0m\u001b[0;34m)\u001b[0m \u001b[0;32mand\u001b[0m \u001b[0mint\u001b[0m\u001b[0;34m(\u001b[0m\u001b[0mchoice\u001b[0m\u001b[0;34m)\u001b[0m \u001b[0;32min\u001b[0m \u001b[0moptions\u001b[0m\u001b[0;34m.\u001b[0m\u001b[0mkeys\u001b[0m\u001b[0;34m(\u001b[0m\u001b[0;34m)\u001b[0m\u001b[0;34m:\u001b[0m\u001b[0;34m\u001b[0m\u001b[0;34m\u001b[0m\u001b[0m\n\u001b[1;32m      8\u001b[0m             \u001b[0;32mreturn\u001b[0m \u001b[0mint\u001b[0m\u001b[0;34m(\u001b[0m\u001b[0mchoice\u001b[0m\u001b[0;34m)\u001b[0m\u001b[0;34m\u001b[0m\u001b[0;34m\u001b[0m\u001b[0m\n",
            "\u001b[0;32m/usr/local/lib/python3.10/dist-packages/ipykernel/kernelbase.py\u001b[0m in \u001b[0;36mraw_input\u001b[0;34m(self, prompt)\u001b[0m\n\u001b[1;32m    849\u001b[0m                 \u001b[0;34m\"raw_input was called, but this frontend does not support input requests.\"\u001b[0m\u001b[0;34m\u001b[0m\u001b[0;34m\u001b[0m\u001b[0m\n\u001b[1;32m    850\u001b[0m             )\n\u001b[0;32m--> 851\u001b[0;31m         return self._input_request(str(prompt),\n\u001b[0m\u001b[1;32m    852\u001b[0m             \u001b[0mself\u001b[0m\u001b[0;34m.\u001b[0m\u001b[0m_parent_ident\u001b[0m\u001b[0;34m,\u001b[0m\u001b[0;34m\u001b[0m\u001b[0;34m\u001b[0m\u001b[0m\n\u001b[1;32m    853\u001b[0m             \u001b[0mself\u001b[0m\u001b[0;34m.\u001b[0m\u001b[0m_parent_header\u001b[0m\u001b[0;34m,\u001b[0m\u001b[0;34m\u001b[0m\u001b[0;34m\u001b[0m\u001b[0m\n",
            "\u001b[0;32m/usr/local/lib/python3.10/dist-packages/ipykernel/kernelbase.py\u001b[0m in \u001b[0;36m_input_request\u001b[0;34m(self, prompt, ident, parent, password)\u001b[0m\n\u001b[1;32m    893\u001b[0m             \u001b[0;32mexcept\u001b[0m \u001b[0mKeyboardInterrupt\u001b[0m\u001b[0;34m:\u001b[0m\u001b[0;34m\u001b[0m\u001b[0;34m\u001b[0m\u001b[0m\n\u001b[1;32m    894\u001b[0m                 \u001b[0;31m# re-raise KeyboardInterrupt, to truncate traceback\u001b[0m\u001b[0;34m\u001b[0m\u001b[0;34m\u001b[0m\u001b[0m\n\u001b[0;32m--> 895\u001b[0;31m                 \u001b[0;32mraise\u001b[0m \u001b[0mKeyboardInterrupt\u001b[0m\u001b[0;34m(\u001b[0m\u001b[0;34m\"Interrupted by user\"\u001b[0m\u001b[0;34m)\u001b[0m \u001b[0;32mfrom\u001b[0m \u001b[0;32mNone\u001b[0m\u001b[0;34m\u001b[0m\u001b[0;34m\u001b[0m\u001b[0m\n\u001b[0m\u001b[1;32m    896\u001b[0m             \u001b[0;32mexcept\u001b[0m \u001b[0mException\u001b[0m \u001b[0;32mas\u001b[0m \u001b[0me\u001b[0m\u001b[0;34m:\u001b[0m\u001b[0;34m\u001b[0m\u001b[0;34m\u001b[0m\u001b[0m\n\u001b[1;32m    897\u001b[0m                 \u001b[0mself\u001b[0m\u001b[0;34m.\u001b[0m\u001b[0mlog\u001b[0m\u001b[0;34m.\u001b[0m\u001b[0mwarning\u001b[0m\u001b[0;34m(\u001b[0m\u001b[0;34m\"Invalid Message:\"\u001b[0m\u001b[0;34m,\u001b[0m \u001b[0mexc_info\u001b[0m\u001b[0;34m=\u001b[0m\u001b[0;32mTrue\u001b[0m\u001b[0;34m)\u001b[0m\u001b[0;34m\u001b[0m\u001b[0;34m\u001b[0m\u001b[0m\n",
            "\u001b[0;31mKeyboardInterrupt\u001b[0m: Interrupted by user"
          ]
        }
      ]
    },
    {
      "cell_type": "code",
      "source": [],
      "metadata": {
        "id": "5ZaKu6TxrGFI"
      },
      "execution_count": null,
      "outputs": []
    }
  ]
}