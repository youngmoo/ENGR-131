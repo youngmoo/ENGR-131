{
  "nbformat": 4,
  "nbformat_minor": 0,
  "metadata": {
    "colab": {
      "provenance": [],
      "toc_visible": true,
      "collapsed_sections": [
        "6dpRk0qR-w_D",
        "c1bsDpqzAyJe",
        "A6vQg0hvBvoN",
        "rGHYxFLyA8Wp",
        "8ggTn4TeLo-n",
        "SPev3oi7LtHV",
        "WKCsRTpIL_TH"
      ],
      "include_colab_link": true
    },
    "kernelspec": {
      "name": "python3",
      "display_name": "Python 3"
    },
    "language_info": {
      "name": "python"
    }
  },
  "cells": [
    {
      "cell_type": "markdown",
      "metadata": {
        "id": "view-in-github",
        "colab_type": "text"
      },
      "source": [
        "<a href=\"https://colab.research.google.com/github/youngmoo/ENGR-131/blob/main/Class7.ipynb\" target=\"_parent\"><img src=\"https://colab.research.google.com/assets/colab-badge.svg\" alt=\"Open In Colab\"/></a>"
      ]
    },
    {
      "cell_type": "markdown",
      "source": [
        "# Assignments for Week 7\n",
        "\n",
        "1. Homework problems (zyBooks \"Labs\"): Due **Monday May 22 at noon.**\n",
        "\n",
        "  * 11.11: Grade Calculator\n",
        "  * 11.12: Complex Numbers\n",
        "  * 11.15: Area and Perimeter of a Circle\n",
        "  * 11.23: Winning Team\n",
        "\n",
        "2. Lab tomorrow\n",
        "\n",
        "3. Final project will be similar to Midterm, **but more,** and implemented differently."
      ],
      "metadata": {
        "id": "_Yk4vX64q-bP"
      }
    },
    {
      "cell_type": "markdown",
      "source": [
        "# Midterm project review\n"
      ],
      "metadata": {
        "id": "6dpRk0qR-w_D"
      }
    },
    {
      "cell_type": "markdown",
      "source": [
        "## Imports"
      ],
      "metadata": {
        "id": "aqfSpafd_bsH"
      }
    },
    {
      "cell_type": "code",
      "source": [
        "import time\n",
        "from IPython.display import clear_output\n",
        "from IPython.display import HTML\n"
      ],
      "metadata": {
        "id": "cm4Ahgkg_B7X"
      },
      "execution_count": null,
      "outputs": []
    },
    {
      "cell_type": "markdown",
      "source": [
        "## Functions"
      ],
      "metadata": {
        "id": "0J_3sB23_dm-"
      }
    },
    {
      "cell_type": "code",
      "source": [
        "def show_image(url, width=None):\n",
        "\n",
        "    tag = f\"<center><img src={url} width={width}></center>\"\n",
        "\n",
        "    display(HTML(tag))"
      ],
      "metadata": {
        "id": "hX6BKk9U_Ksi"
      },
      "execution_count": null,
      "outputs": []
    },
    {
      "cell_type": "code",
      "source": [
        "def multiple_choice(options):\n",
        "    '''add docstring'''\n",
        "    while True: # loop forever...until we break\n",
        "        for number, text in options.items():\n",
        "            print(f\"\\t{number}: {text}\") \n",
        "        choice = input(\"\\nEnter a number: \")\n",
        "        if choice.isdigit() and int(choice) in options.keys():\n",
        "            return int(choice)\n",
        "        else:\n",
        "            clear_output(wait=True)\n",
        "            print(\"\\nInvalid option. Try again.\")"
      ],
      "metadata": {
        "id": "V3IW30B6_S8Y"
      },
      "execution_count": null,
      "outputs": []
    },
    {
      "cell_type": "markdown",
      "source": [
        "## Data (pages)"
      ],
      "metadata": {
        "id": "iko_gDAs_i8I"
      }
    },
    {
      "cell_type": "code",
      "source": [
        "# Page 0\n",
        "Text_0 = \"You find yourself in a room with two doors 🚪, one red and one blue.\\nWhat do you do?\"\n",
        "Options_0 = {   1 : \"enter the red door\",\n",
        "                2 : \"enter the blue door\"}\n",
        "Image_0 = \"https://cdn.pixabay.com/photo/2017/06/18/17/30/hallway-2416517_1280.jpg\"\n",
        "                \n",
        "Page_0 = (Text_0, Options_0, Image_0)\n",
        "\n",
        "# Page 1\n",
        "Text_1 = \"You find yourself in a room with one red door. \\nWhat do you do?\"\n",
        "Options_1 = {   0 : \"go back through the red door\"}\n",
        "Image_1 = \"\"\n",
        "Page_1 = (Text_1, Options_1, Image_1)\n",
        "\n",
        "# Page 2\n",
        "Text_2 = \"You find yourself in a room with one blue door. \\nWhat do you do?\"\n",
        "Options_2 = {   0 : \"go back through the blue door\"}\n",
        "Image_2 = \"\"\n",
        "Page_2 = (Text_2, Options_2, Image_2)\n",
        "\n",
        "Pages = (Page_0, Page_1, Page_2)"
      ],
      "metadata": {
        "id": "km4IiYxa_k8F"
      },
      "execution_count": null,
      "outputs": []
    },
    {
      "cell_type": "markdown",
      "source": [
        "## Game"
      ],
      "metadata": {
        "id": "FlNTKYb0_f4l"
      }
    },
    {
      "cell_type": "code",
      "source": [
        "curr_page = 0\n",
        "\n",
        "while True:\n",
        "    text, options, img_url = Pages[curr_page]\n",
        "    if img_url != \"\":\n",
        "      show_image(img_url, width=200)\n",
        "    print(text)\n",
        "\n",
        "    time.sleep(1)\n",
        "\n",
        "    choice = multiple_choice(options)\n",
        "\n",
        "    curr_page = choice\n",
        "\n",
        "    clear_output(wait=True)\n"
      ],
      "metadata": {
        "colab": {
          "base_uri": "https://localhost:8080/",
          "height": 933
        },
        "id": "glmNg4xu_aG1",
        "outputId": "75d1a9b2-d222-4ab1-e753-8e9f28f8c637"
      },
      "execution_count": null,
      "outputs": [
        {
          "output_type": "display_data",
          "data": {
            "text/plain": [
              "<IPython.core.display.HTML object>"
            ],
            "text/html": [
              "<center><img src=https://cdn.pixabay.com/photo/2017/06/18/17/30/hallway-2416517_1280.jpg width=200></center>"
            ]
          },
          "metadata": {}
        },
        {
          "output_type": "stream",
          "name": "stdout",
          "text": [
            "You find yourself in a room with two doors 🚪, one red and one blue.\n",
            "What do you do?\n",
            "\t1: enter the red door\n",
            "\t2: enter the blue door\n"
          ]
        },
        {
          "output_type": "error",
          "ename": "KeyboardInterrupt",
          "evalue": "ignored",
          "traceback": [
            "\u001b[0;31m---------------------------------------------------------------------------\u001b[0m",
            "\u001b[0;31mKeyboardInterrupt\u001b[0m                         Traceback (most recent call last)",
            "\u001b[0;32m<ipython-input-16-d519d3cbbacc>\u001b[0m in \u001b[0;36m<cell line: 3>\u001b[0;34m()\u001b[0m\n\u001b[1;32m      9\u001b[0m     \u001b[0mtime\u001b[0m\u001b[0;34m.\u001b[0m\u001b[0msleep\u001b[0m\u001b[0;34m(\u001b[0m\u001b[0;36m1\u001b[0m\u001b[0;34m)\u001b[0m\u001b[0;34m\u001b[0m\u001b[0;34m\u001b[0m\u001b[0m\n\u001b[1;32m     10\u001b[0m \u001b[0;34m\u001b[0m\u001b[0m\n\u001b[0;32m---> 11\u001b[0;31m     \u001b[0mchoice\u001b[0m \u001b[0;34m=\u001b[0m \u001b[0mmultiple_choice\u001b[0m\u001b[0;34m(\u001b[0m\u001b[0moptions\u001b[0m\u001b[0;34m)\u001b[0m\u001b[0;34m\u001b[0m\u001b[0;34m\u001b[0m\u001b[0m\n\u001b[0m\u001b[1;32m     12\u001b[0m \u001b[0;34m\u001b[0m\u001b[0m\n\u001b[1;32m     13\u001b[0m     \u001b[0mcurr_page\u001b[0m \u001b[0;34m=\u001b[0m \u001b[0mchoice\u001b[0m\u001b[0;34m\u001b[0m\u001b[0;34m\u001b[0m\u001b[0m\n",
            "\u001b[0;32m<ipython-input-7-51d064e57223>\u001b[0m in \u001b[0;36mmultiple_choice\u001b[0;34m(options)\u001b[0m\n\u001b[1;32m      4\u001b[0m         \u001b[0;32mfor\u001b[0m \u001b[0mnumber\u001b[0m\u001b[0;34m,\u001b[0m \u001b[0mtext\u001b[0m \u001b[0;32min\u001b[0m \u001b[0moptions\u001b[0m\u001b[0;34m.\u001b[0m\u001b[0mitems\u001b[0m\u001b[0;34m(\u001b[0m\u001b[0;34m)\u001b[0m\u001b[0;34m:\u001b[0m\u001b[0;34m\u001b[0m\u001b[0;34m\u001b[0m\u001b[0m\n\u001b[1;32m      5\u001b[0m             \u001b[0mprint\u001b[0m\u001b[0;34m(\u001b[0m\u001b[0;34mf\"\\t{number}: {text}\"\u001b[0m\u001b[0;34m)\u001b[0m\u001b[0;34m\u001b[0m\u001b[0;34m\u001b[0m\u001b[0m\n\u001b[0;32m----> 6\u001b[0;31m         \u001b[0mchoice\u001b[0m \u001b[0;34m=\u001b[0m \u001b[0minput\u001b[0m\u001b[0;34m(\u001b[0m\u001b[0;34m\"\\nEnter a number: \"\u001b[0m\u001b[0;34m)\u001b[0m\u001b[0;34m\u001b[0m\u001b[0;34m\u001b[0m\u001b[0m\n\u001b[0m\u001b[1;32m      7\u001b[0m         \u001b[0;32mif\u001b[0m \u001b[0mchoice\u001b[0m\u001b[0;34m.\u001b[0m\u001b[0misdigit\u001b[0m\u001b[0;34m(\u001b[0m\u001b[0;34m)\u001b[0m \u001b[0;32mand\u001b[0m \u001b[0mint\u001b[0m\u001b[0;34m(\u001b[0m\u001b[0mchoice\u001b[0m\u001b[0;34m)\u001b[0m \u001b[0;32min\u001b[0m \u001b[0moptions\u001b[0m\u001b[0;34m.\u001b[0m\u001b[0mkeys\u001b[0m\u001b[0;34m(\u001b[0m\u001b[0;34m)\u001b[0m\u001b[0;34m:\u001b[0m\u001b[0;34m\u001b[0m\u001b[0;34m\u001b[0m\u001b[0m\n\u001b[1;32m      8\u001b[0m             \u001b[0;32mreturn\u001b[0m \u001b[0mint\u001b[0m\u001b[0;34m(\u001b[0m\u001b[0mchoice\u001b[0m\u001b[0;34m)\u001b[0m\u001b[0;34m\u001b[0m\u001b[0;34m\u001b[0m\u001b[0m\n",
            "\u001b[0;32m/usr/local/lib/python3.10/dist-packages/ipykernel/kernelbase.py\u001b[0m in \u001b[0;36mraw_input\u001b[0;34m(self, prompt)\u001b[0m\n\u001b[1;32m    849\u001b[0m                 \u001b[0;34m\"raw_input was called, but this frontend does not support input requests.\"\u001b[0m\u001b[0;34m\u001b[0m\u001b[0;34m\u001b[0m\u001b[0m\n\u001b[1;32m    850\u001b[0m             )\n\u001b[0;32m--> 851\u001b[0;31m         return self._input_request(str(prompt),\n\u001b[0m\u001b[1;32m    852\u001b[0m             \u001b[0mself\u001b[0m\u001b[0;34m.\u001b[0m\u001b[0m_parent_ident\u001b[0m\u001b[0;34m,\u001b[0m\u001b[0;34m\u001b[0m\u001b[0;34m\u001b[0m\u001b[0m\n\u001b[1;32m    853\u001b[0m             \u001b[0mself\u001b[0m\u001b[0;34m.\u001b[0m\u001b[0m_parent_header\u001b[0m\u001b[0;34m,\u001b[0m\u001b[0;34m\u001b[0m\u001b[0;34m\u001b[0m\u001b[0m\n",
            "\u001b[0;32m/usr/local/lib/python3.10/dist-packages/ipykernel/kernelbase.py\u001b[0m in \u001b[0;36m_input_request\u001b[0;34m(self, prompt, ident, parent, password)\u001b[0m\n\u001b[1;32m    893\u001b[0m             \u001b[0;32mexcept\u001b[0m \u001b[0mKeyboardInterrupt\u001b[0m\u001b[0;34m:\u001b[0m\u001b[0;34m\u001b[0m\u001b[0;34m\u001b[0m\u001b[0m\n\u001b[1;32m    894\u001b[0m                 \u001b[0;31m# re-raise KeyboardInterrupt, to truncate traceback\u001b[0m\u001b[0;34m\u001b[0m\u001b[0;34m\u001b[0m\u001b[0m\n\u001b[0;32m--> 895\u001b[0;31m                 \u001b[0;32mraise\u001b[0m \u001b[0mKeyboardInterrupt\u001b[0m\u001b[0;34m(\u001b[0m\u001b[0;34m\"Interrupted by user\"\u001b[0m\u001b[0;34m)\u001b[0m \u001b[0;32mfrom\u001b[0m \u001b[0;32mNone\u001b[0m\u001b[0;34m\u001b[0m\u001b[0;34m\u001b[0m\u001b[0m\n\u001b[0m\u001b[1;32m    896\u001b[0m             \u001b[0;32mexcept\u001b[0m \u001b[0mException\u001b[0m \u001b[0;32mas\u001b[0m \u001b[0me\u001b[0m\u001b[0;34m:\u001b[0m\u001b[0;34m\u001b[0m\u001b[0;34m\u001b[0m\u001b[0m\n\u001b[1;32m    897\u001b[0m                 \u001b[0mself\u001b[0m\u001b[0;34m.\u001b[0m\u001b[0mlog\u001b[0m\u001b[0;34m.\u001b[0m\u001b[0mwarning\u001b[0m\u001b[0;34m(\u001b[0m\u001b[0;34m\"Invalid Message:\"\u001b[0m\u001b[0;34m,\u001b[0m \u001b[0mexc_info\u001b[0m\u001b[0;34m=\u001b[0m\u001b[0;32mTrue\u001b[0m\u001b[0;34m)\u001b[0m\u001b[0;34m\u001b[0m\u001b[0;34m\u001b[0m\u001b[0m\n",
            "\u001b[0;31mKeyboardInterrupt\u001b[0m: Interrupted by user"
          ]
        }
      ]
    },
    {
      "cell_type": "markdown",
      "source": [
        "# Today: Classes and Objects"
      ],
      "metadata": {
        "id": "c1bsDpqzAyJe"
      }
    },
    {
      "cell_type": "markdown",
      "source": [
        "## Built-in objects"
      ],
      "metadata": {
        "id": "A6vQg0hvBvoN"
      }
    },
    {
      "cell_type": "code",
      "source": [],
      "metadata": {
        "colab": {
          "base_uri": "https://localhost:8080/",
          "height": 58
        },
        "id": "AVt7LCagBppr",
        "outputId": "d96dc5d6-3f92-4b51-dfc3-a44dbbc91289"
      },
      "execution_count": null,
      "outputs": [
        {
          "output_type": "execute_result",
          "data": {
            "text/plain": [
              "'hello, there!'"
            ],
            "application/vnd.google.colaboratory.intrinsic+json": {
              "type": "string"
            }
          },
          "metadata": {},
          "execution_count": 30
        }
      ]
    },
    {
      "cell_type": "markdown",
      "source": [
        "## Old way: data and code (functions) are separate"
      ],
      "metadata": {
        "id": "rGHYxFLyA8Wp"
      }
    },
    {
      "cell_type": "code",
      "source": [
        "BucksWL = [58,25]\n",
        "CelticsWL = [57,25]\n",
        "SixersWL = [54,28]\n",
        "CavsWL = [51,31]\n",
        "KnicksWL = [47,35]\n",
        "NetsWL = [45,37]\n",
        "HawksWL = [41,41]\n",
        "HeatWL = [44,38]\n",
        "\n",
        "NuggetsWL = [53,29]\n",
        "GrizzliesWL = [51,31]\n",
        "KingsWL = [48,34]\n",
        "SunsWL = [45,37]\n",
        "ClippersWL = [44,38]\n",
        "WarriorsWL = [44,38]\n",
        "LakersWL = [43,39]\n",
        "TimberwolvesWL = [42,40]\n",
        "\n",
        "East_playoffs = { 1:{'Bucks':BucksWL}, 2:{'Celtics':CelticsWL},\n",
        "                  3:{'Sixers':SixersWL}, 4:{'Cavs':CavsWL},\n",
        "                  5:{'Knicks':KnicksWL}, 6:{'Nets':NetsWL},\n",
        "                  7:{'Hawks':HawksWL}, 8:{'Heat':HeatWL} }\n",
        "                 \n",
        "West_playoffs = { 1:{'Nuggets':NuggetsWL},2:{'Grizzlies':GrizzliesWL},\n",
        "                  3:{'Kings':KingsWL},4:{'Suns':SunsWL},\n",
        "                  5:{'Clippers':ClippersWL},6:{'Warriors':WarriorsWL},\n",
        "                  7:{'Lakers':LakersWL},8:{'Timberwolves':TimberwolvesWL} }\n",
        "\n",
        "NBA_playoffs = {'Eastern':East_playoffs, 'Western':West_playoffs}\n",
        "\n",
        "for conf, matchups in NBA_playoffs.items():\n",
        "  print(f'{conf} Conference playoff teams')\n",
        "  print(f'Seed Team          Won  Lost  Win %')\n",
        "  for seed,teamData in matchups.items():\n",
        "    for team, record in teamData.items():\n",
        "      won = record[0]\n",
        "      lost = record[1]\n",
        "      pct = won/(won + lost)\n",
        "      print(f'  {seed}: {team:<12} {won:>4} {lost:>4}  {pct:>6.3f}')"
      ],
      "metadata": {
        "colab": {
          "base_uri": "https://localhost:8080/"
        },
        "id": "FtGpeljgA77l",
        "outputId": "433086a6-341e-4a3d-f68d-ced6062f4daa"
      },
      "execution_count": null,
      "outputs": [
        {
          "output_type": "stream",
          "name": "stdout",
          "text": [
            "Eastern Conference playoff teams\n",
            "Seed Team          Won  Lost  Win %\n",
            "  1: Bucks          58   25   0.699\n",
            "  2: Celtics        57   25   0.695\n",
            "  3: Sixers         54   28   0.659\n",
            "  4: Cavs           51   31   0.622\n",
            "  5: Knicks         47   35   0.573\n",
            "  6: Nets           45   37   0.549\n",
            "  7: Hawks          41   41   0.500\n",
            "  8: Heat           44   38   0.537\n",
            "Western Conference playoff teams\n",
            "Seed Team          Won  Lost  Win %\n",
            "  1: Nuggets        53   29   0.646\n",
            "  2: Grizzlies      51   31   0.622\n",
            "  3: Kings          48   34   0.585\n",
            "  4: Suns           45   37   0.549\n",
            "  5: Clippers       44   38   0.537\n",
            "  6: Warriors       44   38   0.537\n",
            "  7: Lakers         43   39   0.524\n",
            "  8: Timberwolves   42   40   0.512\n"
          ]
        }
      ]
    },
    {
      "cell_type": "markdown",
      "source": [
        "## Objects: Combining data and code"
      ],
      "metadata": {
        "id": "8ggTn4TeLo-n"
      }
    },
    {
      "cell_type": "markdown",
      "source": [
        "### Object 1: `NBA_Team`\n",
        "\n",
        "Data and functions related to an NBA Playoff Team\n"
      ],
      "metadata": {
        "id": "SPev3oi7LtHV"
      }
    },
    {
      "cell_type": "code",
      "source": [
        "class NBA_Team:\n",
        "  \"\"\" A class to hold data & info for an NBA team \"\"\""
      ],
      "metadata": {
        "id": "U9o1uvwvC7DF"
      },
      "execution_count": null,
      "outputs": []
    },
    {
      "cell_type": "code",
      "source": [
        "Bucks = NBA_Team('Milwaukee','Bucks',58,25)\n",
        "Celtics = NBA_Team('Boston','Celtics',57,25)\n",
        "Sixers = NBA_Team('Philadelphia','76ers',54,28)\n",
        "Cavs = NBA_Team('Cleveland','Cavaliers',51,31)\n",
        "Knicks = NBA_Team('New York','Knickerbockers',47,35)\n",
        "Nets = NBA_Team('Brookyln','Nets',45,37)\n",
        "Hawks = NBA_Team('Atlanta','Hawks',41,41)\n",
        "Heat = NBA_Team('Miami','Heat',44,38)\n",
        "\n",
        "Nuggets = NBA_Team('Denver','Nuggets',53,29)\n",
        "Grizzlies = NBA_Team('Memphis','Grizzlies',51,31)\n",
        "Kings = NBA_Team('Sacramento','Kings',48,34)\n",
        "Suns = NBA_Team('Phoenix','Suns',45,37)\n",
        "Clippers = NBA_Team('Los Angeles','Clippers',44,38)\n",
        "Warriors = NBA_Team('Golden State','Warriors',44,38)\n",
        "Lakers = NBA_Team('Los Angeles','Lakers',43,39)\n",
        "Timberwolves = NBA_Team('Minnesota','Timberwolves',42,40)"
      ],
      "metadata": {
        "id": "oY4mYoMiGYrn"
      },
      "execution_count": null,
      "outputs": []
    },
    {
      "cell_type": "markdown",
      "source": [
        "### Object 2: `NBA_Conference`"
      ],
      "metadata": {
        "id": "WKCsRTpIL_TH"
      }
    },
    {
      "cell_type": "code",
      "source": [
        "class NBA_Conference:\n",
        "  \"\"\" A class to collect the playoff teams in a conference \"\"\"\n"
      ],
      "metadata": {
        "id": "v7AopbEwHyW6"
      },
      "execution_count": null,
      "outputs": []
    },
    {
      "cell_type": "code",
      "source": [
        "East_playoffs = { 1:Bucks, 2:Celtics, 3:Sixers, 4:Cavs,\n",
        "                  5:Knicks, 6:Nets, 7:Hawks, 8:Heat }\n",
        "                 \n",
        "West_playoffs = { 1:Nuggets, 2:Grizzlies, 3:Kings,4:Suns,\n",
        "                  5:Clippers, 6:Warriors, 7:Lakers,\n",
        "                  8:Timberwolves}"
      ],
      "metadata": {
        "id": "lyOotA_fKS_u"
      },
      "execution_count": null,
      "outputs": []
    },
    {
      "cell_type": "code",
      "source": [
        "Bucks.stillPlaying(False)\n",
        "Cavs.stillPlaying(False)\n",
        "Knicks.stillPlaying(False)\n",
        "Nets.stillPlaying(False)\n",
        "Hawks.stillPlaying(False)\n",
        "\n",
        "Grizzlies.stillPlaying(False)\n",
        "Kings.stillPlaying(False)\n",
        "Suns.stillPlaying(False)\n",
        "Clippers.stillPlaying(False)\n",
        "Warriors.stillPlaying(False)\n",
        "Timberwolves.stillPlaying(False)"
      ],
      "metadata": {
        "id": "wD3A7UEnLKZI"
      },
      "execution_count": null,
      "outputs": []
    }
  ]
}