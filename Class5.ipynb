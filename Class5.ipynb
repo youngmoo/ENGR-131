{
  "nbformat": 4,
  "nbformat_minor": 0,
  "metadata": {
    "colab": {
      "provenance": [],
      "collapsed_sections": [
        "xAJEX3mHz0qU",
        "nXHsfmuwz67J",
        "nP-TrB8i1HLU",
        "hOa4OZ9X1tqH",
        "W1QT0fG4Rr-1",
        "zXSRVg5WP4CQ",
        "bTVKlaWLQPz3",
        "6ZBntXXdXciC",
        "P8BeSTMkajS-",
        "QA_kDfgSubBB"
      ],
      "toc_visible": true,
      "include_colab_link": true
    },
    "kernelspec": {
      "name": "python3",
      "display_name": "Python 3"
    },
    "language_info": {
      "name": "python"
    }
  },
  "cells": [
    {
      "cell_type": "markdown",
      "metadata": {
        "id": "view-in-github",
        "colab_type": "text"
      },
      "source": [
        "<a href=\"https://colab.research.google.com/github/youngmoo/ENGR-131/blob/main/Class5.ipynb\" target=\"_parent\"><img src=\"https://colab.research.google.com/assets/colab-badge.svg\" alt=\"Open In Colab\"/></a>"
      ]
    },
    {
      "cell_type": "markdown",
      "source": [
        "# Assignments for Week 5\n",
        "\n",
        "1. Homework problems (zyBooks \"Labs\"):\n",
        "  * *None!!*\n",
        "\n",
        "2. Lab tomorrow: Start of **Midterm Lab Project**\n",
        "  * Due *Monday, May 8 at 12pm (noon)*.\n",
        "    * **Absolutely no extensions**\n",
        "  * Get a good start on this *in lab*.\n",
        "  * This Midterm Lab Project is worth 15% of your final grade\n"
      ],
      "metadata": {
        "id": "_Yk4vX64q-bP"
      }
    },
    {
      "cell_type": "markdown",
      "source": [
        "# Last week: Strings, Lists, and Dictionaries"
      ],
      "metadata": {
        "id": "xAJEX3mHz0qU"
      }
    },
    {
      "cell_type": "markdown",
      "source": [
        "## Strings"
      ],
      "metadata": {
        "id": "nXHsfmuwz67J"
      }
    },
    {
      "cell_type": "markdown",
      "source": [
        "* String methods\n",
        "* Splitting and joining strings\n",
        "* Comma-Separated Values (CSV)"
      ],
      "metadata": {
        "id": "ACxcPCRh0cJ9"
      }
    },
    {
      "cell_type": "markdown",
      "source": [
        "## Lists\n"
      ],
      "metadata": {
        "id": "AYWUcluQ0C-O"
      }
    },
    {
      "cell_type": "markdown",
      "source": [
        "* List slicing\n",
        "* Sorting: in-place and not-in-place\n",
        "* Iterating over lists\n",
        "* Lists of lists"
      ],
      "metadata": {
        "id": "dVU3uOTC0f2b"
      }
    },
    {
      "cell_type": "markdown",
      "source": [
        "## Dictionaries"
      ],
      "metadata": {
        "id": "6GqH5xV00g4C"
      }
    },
    {
      "cell_type": "markdown",
      "source": [
        "* Key-value indexing and iteration\n",
        "* Nested dictionaries and data"
      ],
      "metadata": {
        "id": "NrEd-B1E0iY6"
      }
    },
    {
      "cell_type": "markdown",
      "source": [
        "# Today: Modules\n",
        "\n",
        "Bundling code for reuse across projects."
      ],
      "metadata": {
        "id": "nP-TrB8i1HLU"
      }
    },
    {
      "cell_type": "code",
      "source": [],
      "metadata": {
        "id": "2karEcwr10Hn"
      },
      "execution_count": null,
      "outputs": []
    },
    {
      "cell_type": "markdown",
      "source": [
        "## Python Standard Library Modules\n",
        "\n",
        "In addition to `math`, these common tools and utilities are always availabe."
      ],
      "metadata": {
        "id": "hOa4OZ9X1tqH"
      }
    },
    {
      "cell_type": "code",
      "source": [
        "import random     # Generate random variables\n",
        "import time       # Current time and timer functions   \n",
        "import datetime   # Functions for date & time\n",
        "import sys        # System-specific environment / helper functions\n",
        "\n",
        "import copy       # Functions to copy data\n",
        "import os         # Operating system functions\n",
        "import pdb        # Python interactive debugger\n",
        "import urllib     # URL handling functions"
      ],
      "metadata": {
        "id": "VPIsfLO91Jeq"
      },
      "execution_count": null,
      "outputs": []
    },
    {
      "cell_type": "markdown",
      "source": [
        "## `random` module\n",
        "\n",
        "Random numbers, variables, etc."
      ],
      "metadata": {
        "id": "W1QT0fG4Rr-1"
      }
    },
    {
      "cell_type": "code",
      "source": [],
      "metadata": {
        "id": "3xFizCkm3r7K"
      },
      "execution_count": null,
      "outputs": []
    },
    {
      "cell_type": "markdown",
      "source": [
        "## `time` module\n",
        "\n",
        "Time as a floating point number of seconds since January 1, 1970; 00:00:00\n",
        "* This is the start of the \"standard Unix epoch\"\n",
        "* Useful as a timer / stopwatch"
      ],
      "metadata": {
        "id": "zXSRVg5WP4CQ"
      }
    },
    {
      "cell_type": "code",
      "source": [],
      "metadata": {
        "id": "jBDeu-z13_WE"
      },
      "execution_count": null,
      "outputs": []
    },
    {
      "cell_type": "markdown",
      "source": [
        "## `datetime` module\n",
        "\n",
        "Working with dates (and times) in a variety of formats"
      ],
      "metadata": {
        "id": "bTVKlaWLQPz3"
      }
    },
    {
      "cell_type": "code",
      "source": [],
      "metadata": {
        "id": "xpOXlaFS2Q0V"
      },
      "execution_count": null,
      "outputs": []
    },
    {
      "cell_type": "code",
      "source": [
        "def DrexelTerm(month, day, year):\n",
        "  \n",
        "  DrexelCalendar = {'Fall 2022': '2022-09-19',\n",
        "                    'Winter 2023': '2023-01-09',\n",
        "                    'Spring 2023': '2023-04-03',\n",
        "                    'Summer 2023': '2023-06-26',\n",
        "                    'Fall 2023': '2023-09-25',\n",
        "                    'Winter 2024': '2024-01-08',\n",
        "                    'Spring 2024': '2024-04-01',\n",
        "                    'Summer 2024': '2024-06-24'}"
      ],
      "metadata": {
        "id": "JPXGZ5kx5__j"
      },
      "execution_count": null,
      "outputs": []
    },
    {
      "cell_type": "markdown",
      "source": [
        "## Create and save a `Drexel` module"
      ],
      "metadata": {
        "id": "6ZBntXXdXciC"
      }
    },
    {
      "cell_type": "code",
      "source": [],
      "metadata": {
        "id": "mFTVHMlINUd-"
      },
      "execution_count": null,
      "outputs": []
    },
    {
      "cell_type": "markdown",
      "source": [
        "# Review: Looping through lists and dictionaries"
      ],
      "metadata": {
        "id": "P8BeSTMkajS-"
      }
    },
    {
      "cell_type": "code",
      "source": [
        "playoff_teams = ['Bucks','Celtics','Sixers','Cavs','Knicks','Nets','Hawks','Heat']\n"
      ],
      "metadata": {
        "id": "ng8a4QtgVzK4"
      },
      "execution_count": null,
      "outputs": []
    },
    {
      "cell_type": "code",
      "source": [],
      "metadata": {
        "id": "WH4H4yYiV7Br"
      },
      "execution_count": null,
      "outputs": []
    },
    {
      "cell_type": "code",
      "source": [
        "# Make it a dictionary\n",
        "playoff_teams = {1:'Bucks',2:'Celtics',3:'Sixers',4:'Cavs',\n",
        "              5:'Knicks',6:'Nets',7:'Hawks',8:'Heat'}\n"
      ],
      "metadata": {
        "id": "8OwiQJf1qH0r"
      },
      "execution_count": null,
      "outputs": []
    },
    {
      "cell_type": "code",
      "source": [],
      "metadata": {
        "id": "2rYWhX7DuHC7"
      },
      "execution_count": null,
      "outputs": []
    },
    {
      "cell_type": "markdown",
      "source": [
        "## Nested Dictionaries & Data\n",
        "\n",
        "\n"
      ],
      "metadata": {
        "id": "QA_kDfgSubBB"
      }
    },
    {
      "cell_type": "code",
      "source": [
        "BucksWL = [58,25]\n",
        "CelticsWL = [57,25]\n",
        "SixersWL = [54,28]\n",
        "CavsWL = [51,31]\n",
        "KnicksWL = [47,35]\n",
        "NetsWL = [45,37]\n",
        "HawksWL = [41,41]\n",
        "HeatWL = [44,38]"
      ],
      "metadata": {
        "id": "BVO21N-Iky5S"
      },
      "execution_count": null,
      "outputs": []
    },
    {
      "cell_type": "code",
      "source": [
        "NuggetsWL = [53,29]\n",
        "GrizzliesWL = [51,31]\n",
        "KingsWL = [48,34]\n",
        "SunsWL = [45,37]\n",
        "ClippersWL = [44,38]\n",
        "WarriorsWL = [44,38]\n",
        "LakersWL = [43,39]\n",
        "TimberwolvesWL = [42,40]"
      ],
      "metadata": {
        "id": "Dfh9OnFVk0O2"
      },
      "execution_count": null,
      "outputs": []
    },
    {
      "cell_type": "code",
      "source": [
        "East_playoffs = { 1:{'Bucks':BucksWL}, 2:{'Celtics':CelticsWL},\n",
        "                  3:{'Sixers':SixersWL}, 4:{'Cavs':CavsWL},\n",
        "                  5:{'Knicks':KnicksWL}, 6:{'Nets':NetsWL},\n",
        "                  7:{'Hawks':HawksWL}, 8:{'Heat':HeatWL} }\n",
        "                 \n",
        "West_playoffs = { 1:{'Nuggets':NuggetsWL},2:{'Grizzlies':GrizzliesWL},\n",
        "                  3:{'Kings':KingsWL},4:{'Suns':SunsWL},\n",
        "                  5:{'Clippers':ClippersWL},6:{'Warriors':WarriorsWL},\n",
        "                  7:{'Lakers':LakersWL},8:{'Timberwolves':TimberwolvesWL} }\n"
      ],
      "metadata": {
        "id": "spEaSexTlM27"
      },
      "execution_count": null,
      "outputs": []
    },
    {
      "cell_type": "code",
      "source": [],
      "metadata": {
        "id": "0--501yXudBb"
      },
      "execution_count": null,
      "outputs": []
    }
  ]
}