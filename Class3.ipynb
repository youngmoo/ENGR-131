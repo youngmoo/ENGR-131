{
  "nbformat": 4,
  "nbformat_minor": 0,
  "metadata": {
    "colab": {
      "provenance": [],
      "toc_visible": true,
      "collapsed_sections": [
        "_Yk4vX64q-bP",
        "Zn4MabPTUvFZ",
        "bFtHuOWVU3d4",
        "Ta-a9DDKY-Te",
        "vZam2jsnYFyT",
        "I9LtUm0NfDlG",
        "u_ju7wdOfxEB",
        "assEP7B-hs3I",
        "RxTKjM6WjCdQ",
        "lSwBx9EDNZa-",
        "f3bzaxMhTcD2",
        "Ih2abjPjSE5_",
        "NRgEx4Q4VIGJ",
        "B03UTsMASKYz",
        "7VYXkc0CU_mL",
        "FJLt9LnSS6OQ",
        "xmUWHlzrUbhz",
        "IfzYFIiVSNdp",
        "kLTmLoVJSSWa",
        "buSmqR_FUBVg",
        "qhzQUZtnTCiR",
        "V2OUAd-1VhSc",
        "7kvD7Vc8V5yX",
        "pXDJ4hmsUIdh",
        "zjhc8JHAWVBU"
      ],
      "authorship_tag": "ABX9TyPTN6tR0jJKAFAiqQ3lSdGn",
      "include_colab_link": true
    },
    "kernelspec": {
      "name": "python3",
      "display_name": "Python 3"
    },
    "language_info": {
      "name": "python"
    }
  },
  "cells": [
    {
      "cell_type": "markdown",
      "metadata": {
        "id": "view-in-github",
        "colab_type": "text"
      },
      "source": [
        "<a href=\"https://colab.research.google.com/github/youngmoo/ENGR-131/blob/main/Class3.ipynb\" target=\"_parent\"><img src=\"https://colab.research.google.com/assets/colab-badge.svg\" alt=\"Open In Colab\"/></a>"
      ]
    },
    {
      "cell_type": "markdown",
      "source": [
        "# Homework Assignments for Week 3\n",
        "\n",
        "1. Homework problems (zyBooks \"Labs\"), due Mon. 4/24 at 12:00 PM\n",
        "  * 6.21: Permutation and combination\n",
        "  * 6.45: Polynomials\n",
        "  * 6.52: Functions as objects: A simple calculator grammar\n",
        "  * 7.10: Fibonacci sequence (recursion)\n",
        "\n",
        "2. Lab tomorrow\n",
        "  * Special custom lab activity. *Fun!*\n",
        "\n",
        "3. Reading\n",
        "  * It would still useful to review zyBooks Chapters 6 and 7 before we move on to new material next Monday."
      ],
      "metadata": {
        "id": "_Yk4vX64q-bP"
      }
    },
    {
      "cell_type": "markdown",
      "source": [
        "# Last week: Branches and Loops\n"
      ],
      "metadata": {
        "id": "Zn4MabPTUvFZ"
      }
    },
    {
      "cell_type": "markdown",
      "source": [
        "## Branches (conditionals)\n",
        "\n",
        "Making decisions based on *conditions*\n",
        "* Oftentimes, we compare a variable to something to decide whether (**if**) to do something.\n",
        "* Sometimes we force a decision between *two options*. This is called an **if-else** decision."
      ],
      "metadata": {
        "id": "bFtHuOWVU3d4"
      }
    },
    {
      "cell_type": "markdown",
      "source": [
        "### Multiple branch options: if-elif ('else if')"
      ],
      "metadata": {
        "id": "Ta-a9DDKY-Te"
      }
    },
    {
      "cell_type": "code",
      "source": [
        "episode = abs( int(input('Enter a Star Wars Episode number: ')) )\n",
        "\n",
        "if (episode <= 3):\n",
        "  print('The prequel trilogy: These movies suck!')\n",
        "elif (episode <= 6):\n",
        "  print('The OG trilogy is awesome!')\n",
        "elif (episode <= 9):\n",
        "  print('Disney has ruined Star Wars!')\n",
        "else:\n",
        "  print('There is no episode', episode, '!')"
      ],
      "metadata": {
        "id": "xTzpZu4dnEFQ"
      },
      "execution_count": null,
      "outputs": []
    },
    {
      "cell_type": "markdown",
      "source": [
        "### Nesting if-else branches\n",
        "\n",
        "*Indentation matters!*"
      ],
      "metadata": {
        "id": "vZam2jsnYFyT"
      }
    },
    {
      "cell_type": "code",
      "source": [
        "angle = int(input('Enter an angle (0 to 360):'))\n",
        "\n",
        "# Indentation shows the \"level\" of nesting\n",
        "\n",
        "if (angle < 180):\n",
        "  if (angle < 90):\n",
        "    print('Quadrant 1: x is positive, y is positive')\n",
        "  else:\n",
        "    print('Quadrant 2: x is negative, y is positive')\n",
        "else:\n",
        "  if (angle < 270):\n",
        "    print('Quadrant 3: x is negative, y is negative')\n",
        "  else:\n",
        "    print('Quadrant 4: x is positive, y is negative')\n"
      ],
      "metadata": {
        "id": "2aEnMXgwYKA7"
      },
      "execution_count": null,
      "outputs": []
    },
    {
      "cell_type": "markdown",
      "source": [
        "## Loops\n",
        "\n"
      ],
      "metadata": {
        "id": "I9LtUm0NfDlG"
      }
    },
    {
      "cell_type": "markdown",
      "source": [
        "### While loops"
      ],
      "metadata": {
        "id": "u_ju7wdOfxEB"
      }
    },
    {
      "cell_type": "code",
      "source": [
        "countdown = 5\n",
        "\n",
        "print('Counting down...')\n",
        "while countdown >= 0:\n",
        "  print(countdown)\n",
        "  countdown -= 1\n",
        "\n",
        "print(\"Liftoff!\")"
      ],
      "metadata": {
        "id": "GDC9oEmTfy90"
      },
      "execution_count": null,
      "outputs": []
    },
    {
      "cell_type": "code",
      "source": [
        "values_sum = 0\n",
        "\n",
        "prompt_text = \"Enter whole numbers: \"\n",
        "curr_value = int( input(prompt_text) )\n",
        "   \n",
        "while curr_value != 0: \n",
        "    values_sum += curr_value\n",
        "    curr_value = int( input(prompt_text) )\n",
        "\n",
        "print('Sum:', values_sum)"
      ],
      "metadata": {
        "id": "h3iu2-uozuqu"
      },
      "execution_count": null,
      "outputs": []
    },
    {
      "cell_type": "markdown",
      "source": [
        "Write some code to take a series of input values and compute their *average*.\n",
        "* Rather than using 0 to end entry, detect when they enter 'done'.\n",
        "* Report the average to 2 decimal places."
      ],
      "metadata": {
        "id": "T8DBHwkZzpOH"
      }
    },
    {
      "cell_type": "code",
      "source": [
        "values_sum = 0\n",
        "num_values = 0\n",
        "\n",
        "prompt_text = \"Enter whole numbers or 'done' to when you're done: \"\n",
        "new_entry = input(prompt_text)\n",
        "   \n",
        "while new_entry != 'done': \n",
        "    curr_value = int(new_entry)\n",
        "    values_sum += curr_value\n",
        "    num_values += 1\n",
        "    new_entry = input(prompt_text)\n",
        "\n",
        "print(f'Average: {values_sum / num_values:.2f}\\n')"
      ],
      "metadata": {
        "id": "-i4zZF9mgj_h"
      },
      "execution_count": null,
      "outputs": []
    },
    {
      "cell_type": "markdown",
      "source": [
        "### **For...in** loops\n",
        "When you *know* the number of times to loop in advance"
      ],
      "metadata": {
        "id": "assEP7B-hs3I"
      }
    },
    {
      "cell_type": "code",
      "source": [
        "for counter in range(5):\n",
        "  print(counter)"
      ],
      "metadata": {
        "id": "k3B97tSLh-u6"
      },
      "execution_count": null,
      "outputs": []
    },
    {
      "cell_type": "markdown",
      "source": [
        "Looping through a container (list or other type)\n",
        "\n",
        "* Write some code to create the matchup pairings from an ordered list of the NBA Eastern Conference Playoff Teams.\n",
        "* The output should be a list of `matchups` with the seeding of each team:\n",
        "  * `3.Sixers vs. 6.Nets`\n"
      ],
      "metadata": {
        "id": "laqLytbq0xMp"
      }
    },
    {
      "cell_type": "code",
      "source": [
        "Playoff_Teams = ['Bucks','Celtics','Sixers','Cavs','Knicks','Nets','Hawks','Heat']\n",
        "\n",
        "matchups = []\n"
      ],
      "metadata": {
        "id": "5kyol3u0Rf1t"
      },
      "execution_count": null,
      "outputs": []
    },
    {
      "cell_type": "markdown",
      "source": [
        "### Nested loops\n",
        "\n",
        "Number of vowels"
      ],
      "metadata": {
        "id": "RxTKjM6WjCdQ"
      }
    },
    {
      "cell_type": "code",
      "source": [
        "text = input('Enter a sentence: ')\n",
        "\n",
        "vowels = ['a','e','i','o','u']\n",
        "number_of_characters = len(text)\n",
        "vowel_count = 0\n",
        "\n",
        "for n in range(number_of_characters):\n",
        "  for v in range(len(vowels)):\n",
        "    if text[n] == vowels[v]:\n",
        "      vowel_count += 1\n",
        "\n",
        "print(vowel_count)    \n"
      ],
      "metadata": {
        "id": "MGPlM4zTjOcu"
      },
      "execution_count": null,
      "outputs": []
    },
    {
      "cell_type": "markdown",
      "source": [
        "# Functions\n",
        "\n",
        "Many (many) times, it's helpful to collect code that you'll use over and over into a single unit we call a **function**.\n",
        "* You've already been using some functions:\n",
        "  * input & output: `input(), print()`\n",
        "  * collections & loops: `len(), range()`\n",
        "  * in modules: `math.sqrt()`\n",
        "\n"
      ],
      "metadata": {
        "id": "lSwBx9EDNZa-"
      }
    },
    {
      "cell_type": "markdown",
      "source": [
        "## Functions are awesome!\n",
        "* Functions limit code redundancy and reduce errors\n",
        "  * If you're copy-and-pasting code, you should think about encapsulating that code as a function.\n",
        "* Functions allow you to think about code at a higher level: **modular development**.\n",
        "* Functions improve readability of your code (for yourself and others)\n",
        "\n",
        "You create (**define**) a function starting with the keywod `def`:\n"
      ],
      "metadata": {
        "id": "f3bzaxMhTcD2"
      }
    },
    {
      "cell_type": "code",
      "source": [],
      "metadata": {
        "id": "5hfxY1TxYzlI"
      },
      "execution_count": null,
      "outputs": []
    },
    {
      "cell_type": "markdown",
      "source": [
        "## Functions with inputs (parameters)\n",
        "\n",
        "You can provide input data to a function, which can be none, one, or many **parameters**.\n"
      ],
      "metadata": {
        "id": "Ih2abjPjSE5_"
      }
    },
    {
      "cell_type": "code",
      "source": [],
      "metadata": {
        "id": "v1UqEpqMb8b4"
      },
      "execution_count": null,
      "outputs": []
    },
    {
      "cell_type": "code",
      "source": [],
      "metadata": {
        "id": "9Kb4XWVPdhz-"
      },
      "execution_count": null,
      "outputs": []
    },
    {
      "cell_type": "markdown",
      "source": [
        "### Parameter keywords and default values\n",
        "\n",
        "* You can name your input values so you don't have to remember the order of parameters\n",
        "* You can set default values for some or all of your input parameters"
      ],
      "metadata": {
        "id": "NRgEx4Q4VIGJ"
      }
    },
    {
      "cell_type": "code",
      "source": [],
      "metadata": {
        "id": "AiggbBI_d-wY"
      },
      "execution_count": null,
      "outputs": []
    },
    {
      "cell_type": "markdown",
      "source": [
        "### Parameter types & conversion (*dynamic typing*)\n",
        "\n",
        "Python will do some automatic conversion of parameter types.\n",
        "* Be careful of this. *It's not very smart.*"
      ],
      "metadata": {
        "id": "B03UTsMASKYz"
      }
    },
    {
      "cell_type": "code",
      "source": [],
      "metadata": {
        "id": "hHHhXZx-f_MP"
      },
      "execution_count": null,
      "outputs": []
    },
    {
      "cell_type": "markdown",
      "source": [
        "### Function parameters don't change in the function\n",
        "\n",
        "* Individual parameters don't change\n",
        "* BUT passing objects, depends on the *mutability* of the object.\n",
        "  * The big thing to watch out for is when you pass a list to a function.\n",
        "\n"
      ],
      "metadata": {
        "id": "7VYXkc0CU_mL"
      }
    },
    {
      "cell_type": "code",
      "source": [],
      "metadata": {
        "id": "Nc6iRDfGfMQv"
      },
      "execution_count": null,
      "outputs": []
    },
    {
      "cell_type": "code",
      "source": [],
      "metadata": {
        "id": "qNbYqpCkwNbi"
      },
      "execution_count": null,
      "outputs": []
    },
    {
      "cell_type": "markdown",
      "source": [
        "### Scope\n",
        "\n",
        "When does something \"belong\" to a function?"
      ],
      "metadata": {
        "id": "FJLt9LnSS6OQ"
      }
    },
    {
      "cell_type": "markdown",
      "source": [
        "#### Scope resolution\n",
        "\n",
        "1. Built-in scope: built-in names `int(), list(), range()`, etc.\n",
        "2. Global scope: names defined outside of functions\n",
        "3. Local scope: things defined within the current function\n"
      ],
      "metadata": {
        "id": "xmUWHlzrUbhz"
      }
    },
    {
      "cell_type": "markdown",
      "source": [
        "## Function outputs\n",
        "\n",
        "* No output (void function)\n",
        "* `return`\n",
        "* Multiple outputs"
      ],
      "metadata": {
        "id": "IfzYFIiVSNdp"
      }
    },
    {
      "cell_type": "code",
      "source": [],
      "metadata": {
        "id": "zA9SHD6tgzHt"
      },
      "execution_count": null,
      "outputs": []
    },
    {
      "cell_type": "code",
      "source": [],
      "metadata": {
        "id": "mMkr59SLiOVk"
      },
      "execution_count": null,
      "outputs": []
    },
    {
      "cell_type": "markdown",
      "source": [
        "## Nested Functions\n",
        "\n",
        "* You can define functions inside of functions"
      ],
      "metadata": {
        "id": "kLTmLoVJSSWa"
      }
    },
    {
      "cell_type": "code",
      "source": [],
      "metadata": {
        "id": "8fOJjwg2Nbp8"
      },
      "execution_count": null,
      "outputs": []
    },
    {
      "cell_type": "markdown",
      "source": [
        "## Modular development\n",
        "* Function \"stubs\"\n",
        "* Use the `pass` keyword as a placeholder"
      ],
      "metadata": {
        "id": "buSmqR_FUBVg"
      }
    },
    {
      "cell_type": "code",
      "source": [],
      "metadata": {
        "id": "B6dtr2hQsVT6"
      },
      "execution_count": null,
      "outputs": []
    },
    {
      "cell_type": "markdown",
      "source": [
        "## Write a function using other functions\n",
        "\n",
        "Surface area and volume of a cylinder\n",
        "* $C = 2 \\pi r$\n",
        "* $A = \\pi r^2$\n",
        "* $V_c = A \\cdot h$\n",
        "* $S_c = 2A + C \\cdot h$\n"
      ],
      "metadata": {
        "id": "qhzQUZtnTCiR"
      }
    },
    {
      "cell_type": "code",
      "source": [],
      "metadata": {
        "id": "9ZEj-_9ZjzCk"
      },
      "execution_count": null,
      "outputs": []
    },
    {
      "cell_type": "markdown",
      "source": [
        "## Arbitrary argument lists\n",
        "\n",
        "Sometimes, you may want functions that take an indeterminate number of inputs:\n",
        "\n",
        "* `*args` and `**kwargs`\n"
      ],
      "metadata": {
        "id": "V2OUAd-1VhSc"
      }
    },
    {
      "cell_type": "code",
      "source": [],
      "metadata": {
        "id": "yle9qDg2VoGm"
      },
      "execution_count": null,
      "outputs": []
    },
    {
      "cell_type": "code",
      "source": [],
      "metadata": {
        "id": "N5If6MsQWuOZ"
      },
      "execution_count": null,
      "outputs": []
    },
    {
      "cell_type": "markdown",
      "source": [
        "## Docstrings\n",
        "\n",
        "Documenting what your functions do."
      ],
      "metadata": {
        "id": "7kvD7Vc8V5yX"
      }
    },
    {
      "cell_type": "code",
      "source": [],
      "metadata": {
        "id": "J0b-9UaZtckM"
      },
      "execution_count": null,
      "outputs": []
    },
    {
      "cell_type": "markdown",
      "source": [
        "## Passing functions to functions\n",
        "\n",
        "Note that in using the `help()` function above, we passed a function as a parameter to a function. \n",
        "* *Yes, you can pass functions to functions!*\n",
        "* This can be really useful when you want very different code / behaviors depending on an input."
      ],
      "metadata": {
        "id": "pXDJ4hmsUIdh"
      }
    },
    {
      "cell_type": "code",
      "source": [],
      "metadata": {
        "id": "k0Ow2BzbsrvN"
      },
      "execution_count": null,
      "outputs": []
    },
    {
      "cell_type": "markdown",
      "source": [
        "## Recursion\n",
        "\n",
        "Functions calling themselves\n",
        "\n",
        "* Write the base case\n",
        "* Write the recursive case"
      ],
      "metadata": {
        "id": "zjhc8JHAWVBU"
      }
    },
    {
      "cell_type": "code",
      "source": [],
      "metadata": {
        "id": "c4RZrUV6WX62"
      },
      "execution_count": null,
      "outputs": []
    },
    {
      "cell_type": "code",
      "source": [],
      "metadata": {
        "id": "qJE4vz4AXNiz"
      },
      "execution_count": null,
      "outputs": []
    },
    {
      "cell_type": "code",
      "source": [],
      "metadata": {
        "id": "vXDAn91OVnHV"
      },
      "execution_count": null,
      "outputs": []
    }
  ]
}