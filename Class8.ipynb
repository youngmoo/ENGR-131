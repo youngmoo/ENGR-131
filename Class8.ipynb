{
  "nbformat": 4,
  "nbformat_minor": 0,
  "metadata": {
    "colab": {
      "provenance": [],
      "toc_visible": true,
      "include_colab_link": true
    },
    "kernelspec": {
      "name": "python3",
      "display_name": "Python 3"
    },
    "language_info": {
      "name": "python"
    }
  },
  "cells": [
    {
      "cell_type": "markdown",
      "metadata": {
        "id": "view-in-github",
        "colab_type": "text"
      },
      "source": [
        "<a href=\"https://colab.research.google.com/github/youngmoo/ENGR-131/blob/main/Class8.ipynb\" target=\"_parent\"><img src=\"https://colab.research.google.com/assets/colab-badge.svg\" alt=\"Open In Colab\"/></a>"
      ]
    },
    {
      "cell_type": "markdown",
      "source": [
        "# Week 8: What's happening\n",
        "\n",
        "1. Homework problems (zyBooks):\n",
        "  * 13.8: Write random Numbers to a File\n",
        "  * 13.10: Print the Longest Word\n",
        "  * 14.6: Matplotlib–Making a Simple Plot Image\n",
        "  * 14.7: Numpy–Mean and Standard Deviation\n",
        "\n",
        "\n",
        "2. Plan for upcoming weeks\n",
        "  * Monday, May 29: Memorial Day–*No Class!*\n",
        "  * Tuesday, May 30: Lab–Intro to Final Project\n",
        "  * Monday, June 5: Last class–Final Project Q&A\n"
      ],
      "metadata": {
        "id": "_Yk4vX64q-bP"
      }
    },
    {
      "cell_type": "markdown",
      "source": [
        "# Remember Google Drive and Modules?\n",
        "\n",
        "Recall how we can connect to Google Drive to save files and code for later use.\n",
        "\n",
        "First, add this shortcut to your `My Drive/Colab/` folder:\n",
        "* https://drive.google.com/drive/folders/1hZlh3IftDNH3CwInnPOs5Vqacmc8HZmn?usp=share_link\n"
      ],
      "metadata": {
        "id": "nP-TrB8i1HLU"
      }
    },
    {
      "cell_type": "markdown",
      "source": [
        "## Connect your Google Drive to Colab"
      ],
      "metadata": {
        "id": "bKDz0kav5ys7"
      }
    },
    {
      "cell_type": "code",
      "source": [
        "from google.colab import drive\n",
        "drive.mount('/content/drive')"
      ],
      "metadata": {
        "id": "mtt8ypzQMHml"
      },
      "execution_count": null,
      "outputs": []
    },
    {
      "cell_type": "code",
      "source": [
        "class_path = '/content/drive/MyDrive/Colab/ENGR-131/'\n",
        "username = 'xyz123'"
      ],
      "metadata": {
        "id": "x84Z8qPr5_V6"
      },
      "execution_count": null,
      "outputs": []
    },
    {
      "cell_type": "markdown",
      "source": [
        "## Recall our `Drexel` module"
      ],
      "metadata": {
        "id": "6ZBntXXdXciC"
      }
    },
    {
      "cell_type": "code",
      "source": [],
      "metadata": {
        "id": "lXtw2W-2Hvn-"
      },
      "execution_count": null,
      "outputs": []
    },
    {
      "cell_type": "markdown",
      "source": [
        "# Files\n"
      ],
      "metadata": {
        "id": "jEyMDEnqz0Hv"
      }
    },
    {
      "cell_type": "markdown",
      "source": [
        "## Reading a text file"
      ],
      "metadata": {
        "id": "n_q7Z5XWuZrj"
      }
    },
    {
      "cell_type": "code",
      "source": [],
      "metadata": {
        "id": "27E0lqZ_9PZN"
      },
      "execution_count": null,
      "outputs": []
    },
    {
      "cell_type": "markdown",
      "source": [
        "### Reading a text file, line by line"
      ],
      "metadata": {
        "id": "Q4coo0Qjufcx"
      }
    },
    {
      "cell_type": "code",
      "source": [],
      "metadata": {
        "id": "ndnfDlQc9l9y"
      },
      "execution_count": null,
      "outputs": []
    },
    {
      "cell_type": "markdown",
      "source": [
        "## Reading CSV files"
      ],
      "metadata": {
        "id": "d6aQdhZyFUFW"
      }
    },
    {
      "cell_type": "markdown",
      "source": [
        "### Let's rate the Avengers movies\n",
        "\n",
        "On a scale of 1 to 5:\n",
        "* https://docs.google.com/spreadsheets/d/1dNwo6dW6l7p4knh62yPkunmOsB_DY9BZ-zq9_ic0Z80/edit?usp=sharing"
      ],
      "metadata": {
        "id": "_Akjmjo7C3N3"
      }
    },
    {
      "cell_type": "code",
      "source": [],
      "metadata": {
        "id": "TVVRO_LOADej"
      },
      "execution_count": null,
      "outputs": []
    },
    {
      "cell_type": "markdown",
      "source": [
        "## Writing data to a CSV *file*"
      ],
      "metadata": {
        "id": "vsXAjV2EFOy1"
      }
    },
    {
      "cell_type": "code",
      "source": [],
      "metadata": {
        "id": "nZZ_GPrrCk_O"
      },
      "execution_count": null,
      "outputs": []
    },
    {
      "cell_type": "markdown",
      "source": [
        "# Plotting data: NumPy and MatplotLib\n",
        "\n",
        "* NumPy: Numerical Python\n",
        "* SciPy: Scientific Python\n",
        "* MatplotLib: Module for plotting that mimics MATLAB"
      ],
      "metadata": {
        "id": "sckY7DLfz2nZ"
      }
    },
    {
      "cell_type": "code",
      "source": [
        "import numpy as np                # Load the NumPy module, using the abbreviation 'np'.\n",
        "import matplotlib.pyplot as plt   # Load the Matplotlib module, abbreviated as 'plt'"
      ],
      "metadata": {
        "id": "7gkC-nwp0Iug"
      },
      "execution_count": null,
      "outputs": []
    },
    {
      "cell_type": "markdown",
      "source": [
        "## Let's make some noise(s)\n"
      ],
      "metadata": {
        "id": "hAzjYgygJXnu"
      }
    },
    {
      "cell_type": "code",
      "source": [],
      "metadata": {
        "id": "nzvCxE0hJVEv"
      },
      "execution_count": null,
      "outputs": []
    },
    {
      "cell_type": "markdown",
      "source": [
        "## Save your plot as an image file"
      ],
      "metadata": {
        "id": "GoKDUvsOKTt1"
      }
    },
    {
      "cell_type": "code",
      "source": [],
      "metadata": {
        "id": "yBAaq3NZ0b31"
      },
      "execution_count": null,
      "outputs": []
    },
    {
      "cell_type": "markdown",
      "source": [
        "## Play your signal as sound"
      ],
      "metadata": {
        "id": "9GNJR_alvVwC"
      }
    },
    {
      "cell_type": "code",
      "source": [],
      "metadata": {
        "id": "MD_LcnC20ceq"
      },
      "execution_count": null,
      "outputs": []
    },
    {
      "cell_type": "markdown",
      "source": [
        "## Working with actual music files\n",
        "Let's load some music from a WAV file in our shared class folder. Note that `soundfile` will try to load the *sample rate* of the file automatically (it's generally stored within the WAV file)."
      ],
      "metadata": {
        "id": "BxrfS01q0ryR"
      }
    },
    {
      "cell_type": "code",
      "source": [],
      "metadata": {
        "id": "kMy7MrDS0pAa"
      },
      "execution_count": null,
      "outputs": []
    }
  ]
}