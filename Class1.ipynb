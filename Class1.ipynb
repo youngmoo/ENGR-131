{
  "nbformat": 4,
  "nbformat_minor": 0,
  "metadata": {
    "colab": {
      "provenance": [],
      "collapsed_sections": [
        "_Yk4vX64q-bP",
        "L96qmtPSWHTV",
        "B91tHHDHYA0d",
        "WrwhTJlwaAVG",
        "LuopUk-riF_j",
        "wOnpxJyHX-fz",
        "Eyy6kzN82i8y",
        "B6gnNLTv2ujs",
        "SkvW-YAE08A-",
        "IPXPat_k1IF7",
        "C5jVHhxs1S1Y",
        "TfjcDp-OYLF1",
        "o3fU2FDRloZq",
        "NeAnENyb3SFa",
        "-E8QZqre7QeQ",
        "jLuto07kYEpG",
        "o1aX9aYX39Al",
        "PLgy2qQDlbJh",
        "Q0bwRJYGc_rE",
        "qnBwq5vbqtpS",
        "3eBy717HfVs4",
        "3ibjpmaaCYYQ",
        "J9hyDJmlf7ZU",
        "ROfniF8Df_Qv",
        "oQG5cbFLdd-p",
        "Z22RNWly9TSt",
        "Is15DaLHiry2",
        "jniD8eaCk66w",
        "FZYBDWsOlj4r",
        "j3Z04IAHmWTR",
        "lXj-24Ep_n6z"
      ],
      "authorship_tag": "ABX9TyNLIcOGvkyo3t3dqVJcO6zZ",
      "include_colab_link": true
    },
    "kernelspec": {
      "name": "python3",
      "display_name": "Python 3"
    },
    "language_info": {
      "name": "python"
    }
  },
  "cells": [
    {
      "cell_type": "markdown",
      "metadata": {
        "id": "view-in-github",
        "colab_type": "text"
      },
      "source": [
        "<a href=\"https://colab.research.google.com/github/youngmoo/ENGR-131/blob/main/Class1.ipynb\" target=\"_parent\"><img src=\"https://colab.research.google.com/assets/colab-badge.svg\" alt=\"Open In Colab\"/></a>"
      ]
    },
    {
      "cell_type": "markdown",
      "source": [
        "# Homework Assignments for week 1\n",
        "\n",
        "1. Subscribe to zyBooks, *before Lab tomorrow*!\n",
        "  * [Sign in or create an account.](https://learn.zybooks.com)\n",
        "  *\tEnter zyBook code: `DREXELENGR131Spring2023`\n",
        "  * Subscribe for $77. You may begin subscribing immediately, and subscriptions will last until at least June 17, 2023.\n",
        "\n",
        "2. Homework problems (zyBooks \"Labs\"), due Fri. 4/7 at 11:59 PM\n",
        "  * 2.21\n",
        "  * 2.30\n",
        "  * 3.18\n",
        "  * 3.25\n",
        "\n",
        "3. Reading and all participation activities\n",
        "  * Chapter 4: Branching\n",
        "  * Chapter 5: Loops"
      ],
      "metadata": {
        "id": "_Yk4vX64q-bP"
      }
    },
    {
      "cell_type": "markdown",
      "source": [
        "# Google Colab\n",
        "Colab is a cloud-based environment for [Jupyter Notebooks](jupyter.org). Colab is free to use, you just need a Google account (also free).\n",
        "* Each notebook is a collection of Python code with text (and other media) that you access using a web browser.\n",
        "* Your Python code runs on a Google server, somewhere in their cloud, so you don't have to install anything (other than a browser) on your computer.\n",
        "* Each \"box\" (text or code) in a notebook is called a **cell**.\n",
        "\n"
      ],
      "metadata": {
        "id": "L96qmtPSWHTV"
      }
    },
    {
      "cell_type": "markdown",
      "source": [
        "## Text Cells\n",
        "Text cells (like the one you're reading) are for notes and descriptions. These **do not** contain code that you can run. You create a text cell in two ways:\n",
        "* Select (from the menu bar): `Insert > Text cell`\n",
        "* Hovering over an existing cell near the top and selecting: `+ Text`\n",
        "\n",
        "You edit a text cell by **double-clicking** it. Try it with this one (add a sentence below):\n",
        "* [Replace this with your text here]"
      ],
      "metadata": {
        "id": "B91tHHDHYA0d"
      }
    },
    {
      "cell_type": "markdown",
      "source": [
        "### Markdown\n",
        "Text cells are specified in Markdown, a simplified version of HTML, created by Drexel alum and well-known tech blogger, [John Gruber](https://en.wikipedia.org/wiki/John_Gruber).\n",
        "\n",
        "You can just use the toolbar to format text in the cell, like a word processor, or you can type directly in Markdown format. Just a few things you can do:\n",
        "* An asterisk starts a bullet list\n",
        "* Surrounding text with asterisks *like this* puts them in italics.\n",
        "* Surrounding text with **two asterisks** makes the text **bold**.\n",
        "\n"
      ],
      "metadata": {
        "id": "WrwhTJlwaAVG"
      }
    },
    {
      "cell_type": "markdown",
      "source": [
        "### Hashtag Headings\n",
        "One or more (consecutive) hashtags creates a Heading (for an outline) to help organize your notebooks, like this:\n",
        "\n",
        "`## Hashtag Headings`\n",
        "\n",
        "* The number of hashtags is the heading's outline level.\n",
        "* Now, click the Contents button on the far left edge, which looks like:\n",
        "\n",
        "  ![Contents2.png](data:image/png;base64,iVBORw0KGgoAAAANSUhEUgAAABMAAAAQCAYAAAD0xERiAAAKqWlDQ1BJQ0MgUHJvZmlsZQAASImVlwdUU0kXx+e99EZLiICU0JsgnQBSQmih9yYqIQkQSoyBoGJXFldwRRERAUXQVREFK82OKBYWxYZ9gywiyrpYsKGyDziE3f3a+W7OnPmdmzv33pn35pz/A4CixBWLM2AlADJF2ZJwX09GbFw8AzcAYEBHfqoA5vKyxKzQ0ECA2NT8d/twD0Dj822L8Vz/+v9/NWW+IIsHABSKcBI/i5eJ8AlkvOSJJdkAoHYjfv3F2eJxbkeYJkEaRPj+OKdM8tA4J00wGkzERIazEaYBgCdzuZIUAMgMxM/I4aUgecgeCFuJ+EIRwmKE3TIzF/IRPoKwCRKD+Mjj+ZlJf8mT8recSfKcXG6KnCf3MmF4L2GWOIO79P88jv9tmRnSqRpGyCCnSvzCx+shZ3Y/fWGAnEVJwSFTLORP9jTOqVK/qCnmZbHjp5jP9QqQr80IDpziZKEPR54nmxM5xYIs74gpliwMl9dKlrBZU8yVTNQlIiyTpkfJ/akCjjx/bmpkzBTnCKODpzgrPSJgOoYt90uk4fL+BSJfz+m6PvK9Z2b9Zb9Cjnxtdmqkn3zv3On+BSLWdM6sWHlvfIGX93RMlDxenO0pryXOCJXHCzJ85f6snAj52mzkhZxeGyo/wzSuf+gUAyEIAlzAYyhOEQDZgiXZ4xthLxQvlQhTUrMZLOSGCRgcEc9yFsPGysYWgPH7Ovk6vAubuIcQvXPat+5XAFzPjY2NnZr2+Z8D4Kgj8lhapn0mTOQqkgC40sKTSnImfRN3CYM8PUVAA+pAG+gDE2ABbIADcAEewBv4gxAQCeLAfKTXVJAJJGAxWA7WgHxQCDaDbaAcVIE94AA4DI6BJnAaXACXwXVwE9wFj4AM9INXYBh8AKMQBOEgCkSF1CEdyBAyh2wgJuQGeUOBUDgUByVCKZAIkkLLoXVQIVQMlUPVUC10FGqBLkBXoW7oAdQLDUJvoS8wCibDNFgLNoJnw0yYBQfAkfA8OAVeBOfCefAmuAyugQ/BjfAF+Dp8F5bBr+ARFECRUHSULsoCxUSxUSGoeFQySoJaiSpAlaJqUPWoVlQH6jZKhhpCfUZj0VQ0A22BdkH7oaPQPPQi9Er0RnQ5+gC6Ed2Ovo3uRQ+jv2MoGE2MOcYZw8HEYlIwizH5mFLMPsxJzCXMXUw/5gMWi6VjjbGOWD9sHDYNuwy7EbsT24A9j+3G9mFHcDicOs4c54oLwXFx2bh83A7cIdw53C1cP+4TnoTXwdvgffDxeBF+Lb4UfxB/Fn8LP4AfJSgRDAnOhBACn7CUUETYS2gl3CD0E0aJykRjoisxkphGXEMsI9YTLxEfE9+RSCQ9khMpjCQkrSaVkY6QrpB6SZ/JKmQzMpucQJaSN5H3k8+TH5DfUSgUI4oHJZ6STdlEqaVcpDylfFKgKlgqcBT4CqsUKhQaFW4pvFYkKBoqshTnK+YqlioeV7yhOKREUDJSYitxlVYqVSi1KPUojShTla2VQ5QzlTcqH1S+qvxCBadipOKtwlfJU9mjclGlj4qi6lPZVB51HXUv9RK1n4alGdM4tDRaIe0wrYs2rKqiaqcarbpEtUL1jKqMjqIb0Tn0DHoR/Rj9Hv3LDK0ZrBmCGRtm1M+4NeOj2kw1DzWBWoFag9pdtS/qDHVv9XT1LepN6k800BpmGmEaizV2aVzSGJpJm+kykzezYOaxmQ81YU0zzXDNZZp7NDs1R7S0tXy1xFo7tC5qDWnTtT2007RLtM9qD+pQddx0hDolOud0XjJUGSxGBqOM0c4Y1tXU9dOV6lbrdumO6hnrRemt1WvQe6JP1GfqJ+uX6LfpDxvoGAQZLDeoM3hoSDBkGqYabjfsMPxoZGwUY7TeqMnohbGaMcc417jO+LEJxcTdZJFJjckdU6wp0zTddKfpTTPYzN4s1azC7IY5bO5gLjTfad49CzPLaZZoVs2sHguyBcsix6LOoteSbhloudayyfL1bIPZ8bO3zO6Y/d3K3irDaq/VI2sVa3/rtdat1m9tzGx4NhU2d2wptj62q2ybbd/YmdsJ7HbZ3ben2gfZr7dvs//m4Oggcah3GHQ0cEx0rHTsYdKYocyNzCtOGCdPp1VOp50+Ozs4Zzsfc/7DxcIl3eWgy4s5xnMEc/bO6XPVc+W6VrvK3BhuiW673WTuuu5c9xr3Zx76HnyPfR4DLFNWGusQ67WnlafE86TnR7YzewX7vBfKy9erwKvLW8U7yrvc+6mPnk+KT53PsK+97zLf834YvwC/LX49HC0Oj1PLGfZ39F/h3x5ADogIKA94FmgWKAlsDYKD/IO2Bj0ONgwWBTeFgBBOyNaQJ6HGoYtCT4Vhw0LDKsKeh1uHLw/viKBGLIg4GPEh0jOyKPJRlEmUNKotWjE6Ibo2+mOMV0xxjCx2duyK2OtxGnHCuOZ4XHx0/L74kbnec7fN7U+wT8hPuDfPeN6SeVfna8zPmH9mgeIC7oLjiZjEmMSDiV+5Idwa7kgSJ6kyaZjH5m3nveJ78Ev4gwJXQbFgINk1uTj5RYprytaUwVT31NLUISFbWC58k+aXVpX2MT0kfX/6WEZMRkMmPjMxs0WkIkoXtS/UXrhkYbfYXJwvli1yXrRt0bAkQLIvC8qal9WcTUOEUafURPqDtDfHLaci59Pi6MXHlygvES3pXGq2dMPSgVyf3J+XoZfxlrUt112+ZnnvCtaK6pXQyqSVbav0V+Wt6l/tu/rAGuKa9DW/rLVaW7z2/bqYda15Wnmr8/p+8P2hLl8hX5Lfs95lfdWP6B+FP3ZtsN2wY8P3An7BtUKrwtLCrxt5G6/9ZP1T2U9jm5I3dRU5FO3ajN0s2nxvi/uWA8XKxbnFfVuDtjaWMEoKSt5vW7DtaqldadV24nbpdllZYFnzDoMdm3d8LU8tv1vhWdFQqVm5ofLjTv7OW7s8dtVXaVUVVn3ZLdx9v9q3urHGqKZ0D3ZPzp7ne6P3dvzM/Ll2n8a+wn3f9ov2yw6EH2ivdaytPah5sKgOrpPWDR5KOHTzsNfh5nqL+uoGekPhEXBEeuTl0cSj944FHGs7zjxef8LwROVJ6smCRqhxaeNwU2qTrDmuubvFv6Wt1aX15CnLU/tP656uOKN6pugs8Wze2bFzuedGzovPD11IudDXtqDt0cXYi3faw9q7LgVcunLZ5/LFDlbHuSuuV05fdb7aco15rem6w/XGTvvOk7/Y/3Kyy6Gr8YbjjeabTjdbu+d0n73lfuvCba/bl+9w7ly/G3y3+17Uvfs9CT2y+/z7Lx5kPHjzMOfh6KPVjzGPC54oPSl9qvm05lfTXxtkDrIzvV69nc8inj3q4/W9+i3rt6/9ec8pz0sHdAZqX9i8OD3oM3jz5dyX/a/Er0aH8n9X/r3ytcnrE394/NE5HDvc/0byZuztxnfq7/a/t3vfNhI68vRD5ofRjwWf1D8d+Mz83PEl5svA6OKvuK9l30y/tX4P+P54LHNsTMyVcCekAAoZcHIyAG/3A0CJA4B6E9EPcyf19IRBk98AEwT+E09q7glzAKAe0dJhiHZn9wBwZC8iZ5H8igkAhFIAiHQCsK2tfExp3wmdPm5Y5Itld+C3pMwk8G9sUsP/pe9/zmA8qx345/wnZK4GtiegUosAAACWZVhJZk1NACoAAAAIAAUBEgADAAAAAQABAAABGgAFAAAAAQAAAEoBGwAFAAAAAQAAAFIBKAADAAAAAQACAACHaQAEAAAAAQAAAFoAAAAAAAAASAAAAAEAAABIAAAAAQADkoYABwAAABIAAACEoAIABAAAAAEAAAAToAMABAAAAAEAAAAQAAAAAEFTQ0lJAAAAU2NyZWVuc2hvdD3AEpoAAAAJcEhZcwAACxMAAAsTAQCanBgAAALTaVRYdFhNTDpjb20uYWRvYmUueG1wAAAAAAA8eDp4bXBtZXRhIHhtbG5zOng9ImFkb2JlOm5zOm1ldGEvIiB4OnhtcHRrPSJYTVAgQ29yZSA2LjAuMCI+CiAgIDxyZGY6UkRGIHhtbG5zOnJkZj0iaHR0cDovL3d3dy53My5vcmcvMTk5OS8wMi8yMi1yZGYtc3ludGF4LW5zIyI+CiAgICAgIDxyZGY6RGVzY3JpcHRpb24gcmRmOmFib3V0PSIiCiAgICAgICAgICAgIHhtbG5zOmV4aWY9Imh0dHA6Ly9ucy5hZG9iZS5jb20vZXhpZi8xLjAvIgogICAgICAgICAgICB4bWxuczp0aWZmPSJodHRwOi8vbnMuYWRvYmUuY29tL3RpZmYvMS4wLyI+CiAgICAgICAgIDxleGlmOlBpeGVsWERpbWVuc2lvbj4xOTwvZXhpZjpQaXhlbFhEaW1lbnNpb24+CiAgICAgICAgIDxleGlmOlVzZXJDb21tZW50PlNjcmVlbnNob3Q8L2V4aWY6VXNlckNvbW1lbnQ+CiAgICAgICAgIDxleGlmOlBpeGVsWURpbWVuc2lvbj4xNjwvZXhpZjpQaXhlbFlEaW1lbnNpb24+CiAgICAgICAgIDx0aWZmOlJlc29sdXRpb25Vbml0PjI8L3RpZmY6UmVzb2x1dGlvblVuaXQ+CiAgICAgICAgIDx0aWZmOllSZXNvbHV0aW9uPjcyPC90aWZmOllSZXNvbHV0aW9uPgogICAgICAgICA8dGlmZjpYUmVzb2x1dGlvbj43MjwvdGlmZjpYUmVzb2x1dGlvbj4KICAgICAgICAgPHRpZmY6T3JpZW50YXRpb24+MTwvdGlmZjpPcmllbnRhdGlvbj4KICAgICAgPC9yZGY6RGVzY3JpcHRpb24+CiAgIDwvcmRmOlJERj4KPC94OnhtcG1ldGE+Cl8vrs4AAAGnSURBVDgRpVS9zgFRED27LhYhURAqlUShU4kGUSrEM3gKiUewlWo3Gh2JiEolnsFPJSKiEFGQUPjnM5P4svm+ZLfYSTZ7d+/MmXvmzFzp/bHL5YLj8YhwOAw7Ju73O3Rdx3A4RK1WQyqVQrvdxmazgdvtxieXKb7D4cDhcECxWIS4Xq+YTqfo9/uoVCocOJvNGDwSieDxeJiCKYqCbreLTCYDiWjO53OsViuk02n4/X7s93sGkSTJFOi7+Xq9OI7Bvj/tvmW7AMZ4QR/b7Ra73Q6JRAIulwun0wl0dKJpJQD5kK/H44E4n8+o1+toNpvodDooFArQNA2TyQSBQIAdjdn/rp1OJ5bLJarVKgQh+3w+7jE6FRmJEI1G4fV6LcGEEHg+nyBQFoD6hJ5YLAbqm9vtZknPeEIqxS+YccPO+p+aVgU3S8ZqjsdjLBYL5PN5BINBrNdrpirLsiVdqjlNSSgUgqA2UFUVrVYLvV4PpVIJjUaD5zMej4Nm18xIvMFggNFoBEGK5XI5LjwFk2WzWSSTSS6qFW0SrFwus/qsJklL1xBlsWM//XbIOGH7ccIAAAAASUVORK5CYII=)\n",
        "* This will expand the table of contents outline."
      ],
      "metadata": {
        "id": "LuopUk-riF_j"
      }
    },
    {
      "cell_type": "markdown",
      "source": [
        "# Python Code Cells\n",
        "\n",
        "You put Python code in **code cells**. You create a code cell in any of the following ways:\n",
        "* Select (from the menu bar): `Insert > Code cell`\n",
        "* Hovering over an existing cell near the top and selecting: `+ Code`\n",
        "* Keyboard shortcut: `Ctrl-M`, `B`\n",
        "\n",
        "You can use a code cell immediately as a calculator.\n",
        "* Type some basic math in the code cell below\n",
        "\n",
        "You can **run** a code cell in a few ways:\n",
        "* Hover over the brackets `[ ]` at the left edge of the cell, which turns it into a 'Play` icon. Click it.\n",
        "* Keyboard shortcut: `Ctrl-Enter`"
      ],
      "metadata": {
        "id": "wOnpxJyHX-fz"
      }
    },
    {
      "cell_type": "markdown",
      "source": [
        "## Simple math"
      ],
      "metadata": {
        "id": "Eyy6kzN82i8y"
      }
    },
    {
      "cell_type": "code",
      "source": [],
      "metadata": {
        "id": "D6t6EDrKXoqt"
      },
      "execution_count": null,
      "outputs": []
    },
    {
      "cell_type": "markdown",
      "source": [
        "### Basic division"
      ],
      "metadata": {
        "id": "B6gnNLTv2ujs"
      }
    },
    {
      "cell_type": "code",
      "source": [],
      "metadata": {
        "id": "WZwOa-qqh-pa"
      },
      "execution_count": null,
      "outputs": []
    },
    {
      "cell_type": "markdown",
      "source": [
        "### Whole-number division"
      ],
      "metadata": {
        "id": "SkvW-YAE08A-"
      }
    },
    {
      "cell_type": "code",
      "source": [],
      "metadata": {
        "id": "60ftyUaa04xu"
      },
      "execution_count": null,
      "outputs": []
    },
    {
      "cell_type": "markdown",
      "source": [
        "### Modulus (or mod): Division remainder "
      ],
      "metadata": {
        "id": "IPXPat_k1IF7"
      }
    },
    {
      "cell_type": "code",
      "source": [],
      "metadata": {
        "id": "vgutxW9ui15_"
      },
      "execution_count": null,
      "outputs": []
    },
    {
      "cell_type": "markdown",
      "source": [
        "### Exponent"
      ],
      "metadata": {
        "id": "C5jVHhxs1S1Y"
      }
    },
    {
      "cell_type": "code",
      "source": [],
      "metadata": {
        "id": "P3jWet4HiEpU"
      },
      "execution_count": null,
      "outputs": []
    },
    {
      "cell_type": "markdown",
      "source": [
        "## Comments in code cells"
      ],
      "metadata": {
        "id": "TfjcDp-OYLF1"
      }
    },
    {
      "cell_type": "code",
      "source": [],
      "metadata": {
        "id": "BTteosXuYKfB"
      },
      "execution_count": null,
      "outputs": []
    },
    {
      "cell_type": "markdown",
      "source": [
        "## Code Cell ordering\n",
        "Code cells each have a number, in the order that they are run. This will eventually become important.\n",
        "* This is the *order in which the cells were run*.\n",
        "* If you run a cell again, see how its number changes (it becomes the highest number)."
      ],
      "metadata": {
        "id": "o3fU2FDRloZq"
      }
    },
    {
      "cell_type": "code",
      "source": [],
      "metadata": {
        "id": "RczFEek8iHy0"
      },
      "execution_count": null,
      "outputs": []
    },
    {
      "cell_type": "markdown",
      "source": [
        "## How do we output multiple results?"
      ],
      "metadata": {
        "id": "NeAnENyb3SFa"
      }
    },
    {
      "cell_type": "code",
      "source": [],
      "metadata": {
        "id": "tY9hb-h8iTrl"
      },
      "execution_count": null,
      "outputs": []
    },
    {
      "cell_type": "markdown",
      "source": [
        "Of course, we can print lots of things"
      ],
      "metadata": {
        "id": "3upkDV3S5XgO"
      }
    },
    {
      "cell_type": "code",
      "source": [],
      "metadata": {
        "id": "ZW8jH-tVijCi"
      },
      "execution_count": null,
      "outputs": []
    },
    {
      "cell_type": "markdown",
      "source": [
        "## Fancier math\n"
      ],
      "metadata": {
        "id": "-E8QZqre7QeQ"
      }
    },
    {
      "cell_type": "code",
      "source": [],
      "metadata": {
        "id": "gpXPvdG_7TcY"
      },
      "execution_count": null,
      "outputs": []
    },
    {
      "cell_type": "code",
      "source": [],
      "metadata": {
        "id": "6zJR8Kuq7ZWI"
      },
      "execution_count": null,
      "outputs": []
    },
    {
      "cell_type": "code",
      "source": [],
      "metadata": {
        "id": "_GFLIjIP7hsn"
      },
      "execution_count": null,
      "outputs": []
    },
    {
      "cell_type": "markdown",
      "source": [
        "# Variables"
      ],
      "metadata": {
        "id": "jLuto07kYEpG"
      }
    },
    {
      "cell_type": "code",
      "execution_count": null,
      "metadata": {
        "id": "lq0amc7EXVrj"
      },
      "outputs": [],
      "source": []
    },
    {
      "cell_type": "code",
      "source": [],
      "metadata": {
        "id": "vBp3m-41dEjZ"
      },
      "execution_count": null,
      "outputs": []
    },
    {
      "cell_type": "code",
      "source": [],
      "metadata": {
        "id": "1F_wlT3vfs92"
      },
      "execution_count": null,
      "outputs": []
    },
    {
      "cell_type": "markdown",
      "source": [
        "## The magic of `print()`, Part 1"
      ],
      "metadata": {
        "id": "o1aX9aYX39Al"
      }
    },
    {
      "cell_type": "code",
      "source": [],
      "metadata": {
        "id": "DzJGKX_j363A"
      },
      "execution_count": null,
      "outputs": []
    },
    {
      "cell_type": "code",
      "source": [],
      "metadata": {
        "id": "1YMj3gm69HKl"
      },
      "execution_count": null,
      "outputs": []
    },
    {
      "cell_type": "markdown",
      "source": [
        "## Code cell ordering, again\n",
        "Code cells 'remember' variables from previous code cells.\n",
        "* This is *in the order that they are run*\n"
      ],
      "metadata": {
        "id": "PLgy2qQDlbJh"
      }
    },
    {
      "cell_type": "code",
      "source": [],
      "metadata": {
        "id": "6LUchLWJ5oQm"
      },
      "execution_count": null,
      "outputs": []
    },
    {
      "cell_type": "markdown",
      "source": [
        "## Data Types"
      ],
      "metadata": {
        "id": "Q0bwRJYGc_rE"
      }
    },
    {
      "cell_type": "code",
      "source": [],
      "metadata": {
        "id": "P-SUvZzJ5yN5"
      },
      "execution_count": null,
      "outputs": []
    },
    {
      "cell_type": "code",
      "source": [],
      "metadata": {
        "id": "Uoc7XRUwXg6h"
      },
      "execution_count": null,
      "outputs": []
    },
    {
      "cell_type": "code",
      "source": [],
      "metadata": {
        "id": "-Hkziuzkgq50"
      },
      "execution_count": null,
      "outputs": []
    },
    {
      "cell_type": "markdown",
      "source": [
        "## Equivalence & Comparisons"
      ],
      "metadata": {
        "id": "qnBwq5vbqtpS"
      }
    },
    {
      "cell_type": "code",
      "source": [],
      "metadata": {
        "id": "q6XYx0oOqvfX"
      },
      "execution_count": null,
      "outputs": []
    },
    {
      "cell_type": "markdown",
      "source": [
        "## Variables can be updated by self-referencing"
      ],
      "metadata": {
        "id": "3eBy717HfVs4"
      }
    },
    {
      "cell_type": "code",
      "source": [],
      "metadata": {
        "id": "-8Lm3Z_9dT7c"
      },
      "execution_count": null,
      "outputs": []
    },
    {
      "cell_type": "markdown",
      "source": [
        "## String types"
      ],
      "metadata": {
        "id": "3ibjpmaaCYYQ"
      }
    },
    {
      "cell_type": "code",
      "source": [],
      "metadata": {
        "id": "WNJr2RmhCZyX"
      },
      "execution_count": null,
      "outputs": []
    },
    {
      "cell_type": "markdown",
      "source": [
        "## Naming variables"
      ],
      "metadata": {
        "id": "J9hyDJmlf7ZU"
      }
    },
    {
      "cell_type": "markdown",
      "source": [
        "* A variable name must start with a letter or the underscore character\n",
        "* A variable name cannot start with a number\n",
        "* A variable name can only contain alpha-numeric characters and underscores (A-z, 0-9, and _ )\n",
        "* Variable names are *case-sensitive* (age, Age and AGE are three different variables)"
      ],
      "metadata": {
        "id": "AonhCYU0q5x0"
      }
    },
    {
      "cell_type": "code",
      "source": [],
      "metadata": {
        "id": "kvKft3oRf6kQ"
      },
      "execution_count": null,
      "outputs": []
    },
    {
      "cell_type": "markdown",
      "source": [
        "## Reserved keywords\n",
        "Just don't call your variable one of these words:\n",
        "```\n",
        "False      await      else       import     pass\n",
        "None       break      except     in         raise\n",
        "True       class      finally    is         return\n",
        "and        continue   for        lambda     try\n",
        "as         def        from       nonlocal   while\n",
        "assert     del        global     not        with\n",
        "async      elif       if         or         yield\n",
        "\n",
        "```"
      ],
      "metadata": {
        "id": "ROfniF8Df_Qv"
      }
    },
    {
      "cell_type": "code",
      "source": [],
      "metadata": {
        "id": "SvmbMmpEf-oR"
      },
      "execution_count": null,
      "outputs": []
    },
    {
      "cell_type": "markdown",
      "source": [
        "# Input and Output"
      ],
      "metadata": {
        "id": "oQG5cbFLdd-p"
      }
    },
    {
      "cell_type": "code",
      "source": [],
      "metadata": {
        "id": "DpQ8vPk-ddST"
      },
      "execution_count": null,
      "outputs": []
    },
    {
      "cell_type": "code",
      "source": [],
      "metadata": {
        "id": "lrqQi3GhCBSM"
      },
      "execution_count": null,
      "outputs": []
    },
    {
      "cell_type": "code",
      "source": [],
      "metadata": {
        "id": "k8WPOxJfjGrr"
      },
      "execution_count": null,
      "outputs": []
    },
    {
      "cell_type": "markdown",
      "source": [
        "## The magic of `print()`, Part 2"
      ],
      "metadata": {
        "id": "Z22RNWly9TSt"
      }
    },
    {
      "cell_type": "code",
      "source": [],
      "metadata": {
        "id": "4eSolv-7-cyf"
      },
      "execution_count": null,
      "outputs": []
    },
    {
      "cell_type": "code",
      "source": [],
      "metadata": {
        "id": "ThyTnoZG9VsS"
      },
      "execution_count": null,
      "outputs": []
    },
    {
      "cell_type": "markdown",
      "source": [
        "# Compound operators"
      ],
      "metadata": {
        "id": "Is15DaLHiry2"
      }
    },
    {
      "cell_type": "code",
      "source": [],
      "metadata": {
        "id": "sMeICkbmirVc"
      },
      "execution_count": null,
      "outputs": []
    },
    {
      "cell_type": "code",
      "source": [],
      "metadata": {
        "id": "Giny13FHBhih"
      },
      "execution_count": null,
      "outputs": []
    },
    {
      "cell_type": "code",
      "source": [],
      "metadata": {
        "id": "Ax-t3rUeDHoE"
      },
      "execution_count": null,
      "outputs": []
    },
    {
      "cell_type": "markdown",
      "source": [
        "# Lists"
      ],
      "metadata": {
        "id": "jniD8eaCk66w"
      }
    },
    {
      "cell_type": "code",
      "source": [],
      "metadata": {
        "id": "A5xWNKzok6c3"
      },
      "execution_count": null,
      "outputs": []
    },
    {
      "cell_type": "markdown",
      "source": [
        "Index start at 0"
      ],
      "metadata": {
        "id": "G6EmUyQqCu22"
      }
    },
    {
      "cell_type": "code",
      "source": [],
      "metadata": {
        "id": "vyyPYcPOlBHH"
      },
      "execution_count": null,
      "outputs": []
    },
    {
      "cell_type": "code",
      "source": [],
      "metadata": {
        "id": "y08deAWhBX3x"
      },
      "execution_count": null,
      "outputs": []
    },
    {
      "cell_type": "markdown",
      "source": [
        "## Tuples\n",
        "\n",
        "A tuple stores a collection of data, like a list, but is immutable – once created, the tuple's elements cannot be changed."
      ],
      "metadata": {
        "id": "FZYBDWsOlj4r"
      }
    },
    {
      "cell_type": "code",
      "source": [],
      "metadata": {
        "id": "SgFiJhDfljDC"
      },
      "execution_count": null,
      "outputs": []
    },
    {
      "cell_type": "code",
      "source": [],
      "metadata": {
        "id": "utN1hu-rCrWx"
      },
      "execution_count": null,
      "outputs": []
    },
    {
      "cell_type": "markdown",
      "source": [
        "## Sets\n",
        "\n",
        "A set is an unordered collection of unique elements. A set has the following properties:\n",
        "* Elements are unordered: Elements in the set do not have a position or index.\n",
        "* Elements are unique: No elements in the set share the same value."
      ],
      "metadata": {
        "id": "j3Z04IAHmWTR"
      }
    },
    {
      "cell_type": "code",
      "source": [],
      "metadata": {
        "id": "JNk0ztxRmRn0"
      },
      "execution_count": null,
      "outputs": []
    },
    {
      "cell_type": "markdown",
      "source": [
        "## Dictionary\n",
        "A dictionary is a Python container used to describe associative relationships. \n",
        "* key: a term in the dictionary (index)\n",
        "* value: the data with a key"
      ],
      "metadata": {
        "id": "lXj-24Ep_n6z"
      }
    },
    {
      "cell_type": "code",
      "source": [],
      "metadata": {
        "id": "7pZk9gEq_pZE"
      },
      "execution_count": null,
      "outputs": []
    },
    {
      "cell_type": "code",
      "source": [],
      "metadata": {
        "id": "AOgPl8ySAH8W"
      },
      "execution_count": null,
      "outputs": []
    },
    {
      "cell_type": "code",
      "source": [],
      "metadata": {
        "id": "hJibCY9KnVf9"
      },
      "execution_count": null,
      "outputs": []
    }
  ]
}