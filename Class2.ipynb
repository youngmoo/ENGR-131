{
  "nbformat": 4,
  "nbformat_minor": 0,
  "metadata": {
    "colab": {
      "provenance": [],
      "toc_visible": true,
      "collapsed_sections": [
        "L96qmtPSWHTV",
        "bFtHuOWVU3d4",
        "DcC5FwGNwrQF",
        "btWd_bqYU9UZ",
        "jKSLJgCql1I9",
        "jInxpd7aZYD3",
        "Ta-a9DDKY-Te",
        "vZam2jsnYFyT",
        "2JF9OTjjZ_DI",
        "I9LtUm0NfDlG",
        "u_ju7wdOfxEB",
        "assEP7B-hs3I",
        "RxTKjM6WjCdQ",
        "ATsBGYGikmkj"
      ],
      "authorship_tag": "ABX9TyPt4Lvbp775cvJNLbLMtoNr",
      "include_colab_link": true
    },
    "kernelspec": {
      "name": "python3",
      "display_name": "Python 3"
    },
    "language_info": {
      "name": "python"
    }
  },
  "cells": [
    {
      "cell_type": "markdown",
      "metadata": {
        "id": "view-in-github",
        "colab_type": "text"
      },
      "source": [
        "<a href=\"https://colab.research.google.com/github/youngmoo/ENGR-131/blob/main/Class2.ipynb\" target=\"_parent\"><img src=\"https://colab.research.google.com/assets/colab-badge.svg\" alt=\"Open In Colab\"/></a>"
      ]
    },
    {
      "cell_type": "markdown",
      "source": [
        "# Homework Assignments for Week 2\n",
        "\n",
        "1. Homework problems (zyBooks \"Labs\"), due Fri. 4/14 at 11:59 PM\n",
        "  * 4.21: Interstate highway numbers\n",
        "  * 4.29: Rock-Paper-Scissors\n",
        "  * 5.21: Count input length without spaces, periods, exclamation points, or commas\n",
        "La\n",
        "  * 5.29: Adjust values in a list by normalizing\n",
        "\n",
        "2. Reading and participation / challenge activities\n",
        "  * *We are longer assigning these!*\n",
        "  * It's still useful to review zyBooks Chapters 4 and 5 before we move on to new material next Monday."
      ],
      "metadata": {
        "id": "_Yk4vX64q-bP"
      }
    },
    {
      "cell_type": "markdown",
      "source": [
        "## The Deal\n",
        "\n",
        "We want you to learn to code, and to learn it well. That will require regular, consistent work. So, here's **The Deal**:\n",
        "* We will do lots of work *in-class* and *in-lab*. Come to class and lab, ready to be present and engaged.\n",
        "* We will assign you a limited amout of homework and reading, the minimum to give you regular practice... *not an unnecessary amount of grunt work designed to kill you*.\n",
        "* Learning coding isn't easy, but it should also be fun. Our projects will be meaningful, challenging, and (hopefully) *fun*!"
      ],
      "metadata": {
        "id": "ii46p2WaWvCP"
      }
    },
    {
      "cell_type": "markdown",
      "source": [
        "# Super quick review of last class (Week 1)\n",
        "\n"
      ],
      "metadata": {
        "id": "L96qmtPSWHTV"
      }
    },
    {
      "cell_type": "markdown",
      "source": [
        "## Google Colab\n",
        "* This is the platform we'll be using for classes."
      ],
      "metadata": {
        "id": "fWK91WGpOsIL"
      }
    },
    {
      "cell_type": "markdown",
      "source": [
        "## Python Code Cells\n",
        "* Code cells: Be mindful of the order you run cells"
      ],
      "metadata": {
        "id": "qSVnsBUdOPL2"
      }
    },
    {
      "cell_type": "markdown",
      "source": [
        "## Variables\n"
      ],
      "metadata": {
        "id": "jLuto07kYEpG"
      }
    },
    {
      "cell_type": "markdown",
      "source": [
        "* A placeholder for data (information) that might change\n",
        "* Variables can be named almost anything"
      ],
      "metadata": {
        "id": "ULT_tr0xvrNq"
      }
    },
    {
      "cell_type": "code",
      "execution_count": null,
      "metadata": {
        "id": "lq0amc7EXVrj"
      },
      "outputs": [],
      "source": [
        "x = 5\n",
        "print('x:', x)\n",
        "\n",
        "temperature = 73.25\n",
        "print('temperature:', temperature)\n",
        "\n",
        "theNameOfMyUniversity = 'Drexel'\n",
        "print('The University I attend:', theNameOfMyUniversity)"
      ]
    },
    {
      "cell_type": "code",
      "source": [
        "# Variables are always on the left (x = something)\n",
        "# The following will not work!!\n",
        "5 = x"
      ],
      "metadata": {
        "id": "IbokIoqlPXhO"
      },
      "execution_count": null,
      "outputs": []
    },
    {
      "cell_type": "markdown",
      "source": [
        "## Data Types"
      ],
      "metadata": {
        "id": "Q0bwRJYGc_rE"
      }
    },
    {
      "cell_type": "markdown",
      "source": [
        "The *kind* of data / information stored in a variable (integer or floating-point numbers, strings, etc.)"
      ],
      "metadata": {
        "id": "Ibh-WTDhvtly"
      }
    },
    {
      "cell_type": "code",
      "source": [
        "print(type(x))\n",
        "print(type(temperature))\n",
        "print(type(theNameOfMyUniversity))\n",
        "\n",
        "type(theNameOfMyUniversity)"
      ],
      "metadata": {
        "id": "-Hkziuzkgq50"
      },
      "execution_count": null,
      "outputs": []
    },
    {
      "cell_type": "markdown",
      "source": [
        "### Really big and small numbers"
      ],
      "metadata": {
        "id": "lZhywgSnQbsR"
      }
    },
    {
      "cell_type": "code",
      "source": [
        "print(2.0 ** -1074)"
      ],
      "metadata": {
        "id": "FGzp1akchRFv"
      },
      "execution_count": null,
      "outputs": []
    },
    {
      "cell_type": "code",
      "source": [
        "print(2.0 ** -1075)"
      ],
      "metadata": {
        "id": "l26UEupm65y1"
      },
      "execution_count": null,
      "outputs": []
    },
    {
      "cell_type": "markdown",
      "source": [
        "## Checking Equivalence and Making Comparisons with Variables"
      ],
      "metadata": {
        "id": "h9dSwjLZoB-j"
      }
    },
    {
      "cell_type": "code",
      "source": [
        "x = 2\n",
        "y = 3\n",
        "z = 4\n",
        "\n",
        "are_they_equal = x == y\n",
        "print('Is x == y?', are_they_equal)\n",
        "\n",
        "print('Is x >= y?', x >= y)\n",
        "print('Is y < z?', y < z)\n",
        "print('Is x != z?', x != z)"
      ],
      "metadata": {
        "id": "_77GUsZaoDsz"
      },
      "execution_count": null,
      "outputs": []
    },
    {
      "cell_type": "markdown",
      "source": [
        "## Updating variables"
      ],
      "metadata": {
        "id": "3eBy717HfVs4"
      }
    },
    {
      "cell_type": "code",
      "source": [
        "x = 5\n",
        "x = x + 2   # New 'x' is equal to the Old 'x' plus 2\n",
        "print(x)\n",
        "\n",
        "x += 1      # New 'x' is the Old 'x' plus 1\n",
        "print(x)\n",
        "\n",
        "x *= 2      # New 'x' is the Old 'x' times 2\n",
        "print(x)"
      ],
      "metadata": {
        "id": "-8Lm3Z_9dT7c"
      },
      "execution_count": null,
      "outputs": []
    },
    {
      "cell_type": "markdown",
      "source": [
        "## Modules"
      ],
      "metadata": {
        "id": "3cPsbAxyv7RB"
      }
    },
    {
      "cell_type": "markdown",
      "source": [
        "Modules add functionality that aren't included in baseline Python.\n",
        "* In other languages, these may be called *libraries* and *frameworks*."
      ],
      "metadata": {
        "id": "ylOC8xoCv-Ay"
      }
    },
    {
      "cell_type": "code",
      "source": [
        "import math\n"
      ],
      "metadata": {
        "id": "xEBVY4QCv8mg"
      },
      "execution_count": null,
      "outputs": []
    },
    {
      "cell_type": "markdown",
      "source": [
        "## Input and Output"
      ],
      "metadata": {
        "id": "oQG5cbFLdd-p"
      }
    },
    {
      "cell_type": "code",
      "source": [
        "r = float(input(' Enter a radius: '))\n",
        "C = 2 * math.pi * r\n",
        "print()\n",
        "print('The circumference of a circle with radius', r, 'is', C)"
      ],
      "metadata": {
        "id": "k8WPOxJfjGrr"
      },
      "execution_count": null,
      "outputs": []
    },
    {
      "cell_type": "markdown",
      "source": [
        "## Containers"
      ],
      "metadata": {
        "id": "49AG1iXyiaBf"
      }
    },
    {
      "cell_type": "markdown",
      "source": [
        "Containers are *groups* of variables that are stored together."
      ],
      "metadata": {
        "id": "VlHf_EFkwUkD"
      }
    },
    {
      "cell_type": "markdown",
      "source": [
        "### Lists: probably the most common container\n",
        "* The first item of a list always starts at index 0"
      ],
      "metadata": {
        "id": "jniD8eaCk66w"
      }
    },
    {
      "cell_type": "code",
      "source": [
        "list_of_fruits = ['apple', 'orange', 'banana']\n",
        "print(list_of_fruits)\n",
        "\n",
        "print(list_of_fruits[0])\n",
        "print(list_of_fruits[1])"
      ],
      "metadata": {
        "id": "A5xWNKzok6c3"
      },
      "execution_count": null,
      "outputs": []
    },
    {
      "cell_type": "code",
      "source": [
        "n = [0, 1, 1, 2, 3, 5, 8, 11]\n",
        "n[4] = 5\n",
        "print(n)"
      ],
      "metadata": {
        "id": "y08deAWhBX3x"
      },
      "execution_count": null,
      "outputs": []
    },
    {
      "cell_type": "markdown",
      "source": [
        "### Tuples\n",
        "\n",
        "An immutable list – once created, the tuple's elements cannot be changed."
      ],
      "metadata": {
        "id": "FZYBDWsOlj4r"
      }
    },
    {
      "cell_type": "code",
      "source": [
        "n = (0, 1, 1, 2, 3, 5, 8, 11)\n",
        "n[4] = 5"
      ],
      "metadata": {
        "id": "SgFiJhDfljDC"
      },
      "execution_count": null,
      "outputs": []
    },
    {
      "cell_type": "markdown",
      "source": [
        "### Sets\n",
        "\n",
        "An unordered collection of unique elements. A set has the following properties:\n",
        "* Elements are unordered: Elements in the set do not have a position or index.\n",
        "* Elements are unique: No elements in the set share the same value."
      ],
      "metadata": {
        "id": "j3Z04IAHmWTR"
      }
    },
    {
      "cell_type": "code",
      "source": [
        "# Create a set using the set() function.\n",
        "nums1 = set([1, 2, 3])\n",
        "\n",
        "# Create a set using a set literal.\n",
        "nums2 = { 7, 8, 9 }\n",
        "\n",
        "# Print the contents of the sets.\n",
        "print(nums1)\n",
        "print(nums2)"
      ],
      "metadata": {
        "id": "JNk0ztxRmRn0"
      },
      "execution_count": null,
      "outputs": []
    },
    {
      "cell_type": "markdown",
      "source": [
        "### Dictionary\n",
        "A dictionary is a Python container used to describe associative relationships. \n",
        "* key: a term in the dictionary (index)\n",
        "* value: the data with a key"
      ],
      "metadata": {
        "id": "lXj-24Ep_n6z"
      }
    },
    {
      "cell_type": "code",
      "source": [
        "class_years = {\n",
        "    'First years': 15,\n",
        "    'Sophomores': 3,\n",
        "    'Pre-juniors': 1,\n",
        "    'Juniors': 1,\n",
        "    'Seniors': 0\n",
        "}\n",
        "\n",
        "print(class_years)\n",
        "\n",
        "year = 'Sophomores'\n",
        "print(year, class_years[year])\n",
        "\n"
      ],
      "metadata": {
        "id": "7pZk9gEq_pZE"
      },
      "execution_count": null,
      "outputs": []
    },
    {
      "cell_type": "code",
      "source": [
        "class_years.keys()"
      ],
      "metadata": {
        "id": "AOgPl8ySAH8W"
      },
      "execution_count": null,
      "outputs": []
    },
    {
      "cell_type": "markdown",
      "source": [
        "# Today: Branches and Loops\n",
        "\n",
        "**Let's start coding for realz.**"
      ],
      "metadata": {
        "id": "Zn4MabPTUvFZ"
      }
    },
    {
      "cell_type": "markdown",
      "source": [
        "# Branches\n",
        "\n",
        "Making decisions based on *conditions*\n",
        "* Oftentimes, we compare a variable to something to decide whether (**if**) to do something.\n",
        "* Sometimes we force a decision between *two options*. This is called an **if-else** decision."
      ],
      "metadata": {
        "id": "bFtHuOWVU3d4"
      }
    },
    {
      "cell_type": "code",
      "source": [],
      "metadata": {
        "id": "6S86kBtzmgP2"
      },
      "execution_count": null,
      "outputs": []
    },
    {
      "cell_type": "markdown",
      "source": [
        "## Negative or Not?"
      ],
      "metadata": {
        "id": "DcC5FwGNwrQF"
      }
    },
    {
      "cell_type": "code",
      "source": [],
      "metadata": {
        "id": "bvy91fWdVS5m"
      },
      "execution_count": null,
      "outputs": []
    },
    {
      "cell_type": "markdown",
      "source": [
        "## Even or Odd?\n",
        "\n",
        "Write some code (with an input) to print whether an integer is even or odd."
      ],
      "metadata": {
        "id": "btWd_bqYU9UZ"
      }
    },
    {
      "cell_type": "code",
      "source": [],
      "metadata": {
        "id": "Hb7AQgV-XQh5"
      },
      "execution_count": null,
      "outputs": []
    },
    {
      "cell_type": "markdown",
      "source": [
        "## Logical comparisons: and, or, not\n",
        "\n"
      ],
      "metadata": {
        "id": "jKSLJgCql1I9"
      }
    },
    {
      "cell_type": "code",
      "source": [],
      "metadata": {
        "id": "NvZkVV-jmB_j"
      },
      "execution_count": null,
      "outputs": []
    },
    {
      "cell_type": "markdown",
      "source": [
        "## Comparing different data types\n"
      ],
      "metadata": {
        "id": "jInxpd7aZYD3"
      }
    },
    {
      "cell_type": "code",
      "source": [],
      "metadata": {
        "id": "3-BjB9XaZac8"
      },
      "execution_count": null,
      "outputs": []
    },
    {
      "cell_type": "markdown",
      "source": [
        "## Multiple branch options: if-elif ('else if')"
      ],
      "metadata": {
        "id": "Ta-a9DDKY-Te"
      }
    },
    {
      "cell_type": "code",
      "source": [],
      "metadata": {
        "id": "xTzpZu4dnEFQ"
      },
      "execution_count": null,
      "outputs": []
    },
    {
      "cell_type": "markdown",
      "source": [
        "Write some code that takes in a student's grade level and prints out their level of schooling:\n",
        "* Elementary school: 1-4\n",
        "* Middle school: 5-8\n",
        "* High school: 9-12\n",
        "* College: 13-16\n",
        "* Post-college: 17+"
      ],
      "metadata": {
        "id": "BUWuspsbyE5U"
      }
    },
    {
      "cell_type": "code",
      "source": [],
      "metadata": {
        "id": "g_VEaYVdyjuJ"
      },
      "execution_count": null,
      "outputs": []
    },
    {
      "cell_type": "markdown",
      "source": [
        "## Nesting if-else branches\n",
        "\n"
      ],
      "metadata": {
        "id": "vZam2jsnYFyT"
      }
    },
    {
      "cell_type": "code",
      "source": [],
      "metadata": {
        "id": "2aEnMXgwYKA7"
      },
      "execution_count": null,
      "outputs": []
    },
    {
      "cell_type": "markdown",
      "source": [
        "Write some code that takes in a student's grade level and prints out:\n",
        "* Type of school (as before)\n",
        "* Are they graduating this year (will they advance to a new school type next year)?"
      ],
      "metadata": {
        "id": "4eFhvBIdxOPp"
      }
    },
    {
      "cell_type": "code",
      "source": [],
      "metadata": {
        "id": "deL4HbAVyAA2"
      },
      "execution_count": null,
      "outputs": []
    },
    {
      "cell_type": "markdown",
      "source": [
        "## Membership operators: in / not in\n",
        "\n"
      ],
      "metadata": {
        "id": "2JF9OTjjZ_DI"
      }
    },
    {
      "cell_type": "code",
      "source": [],
      "metadata": {
        "id": "fZ0RT3aAaPKW"
      },
      "execution_count": null,
      "outputs": []
    },
    {
      "cell_type": "markdown",
      "source": [
        "Let's use the Sixers' players first and last names. Write code to detect whether an input (either first name, last name, or whole name) is on the team. "
      ],
      "metadata": {
        "id": "MP2wmJkEzMXf"
      }
    },
    {
      "cell_type": "code",
      "source": [],
      "metadata": {
        "id": "s8k1bEy5zNyU"
      },
      "execution_count": null,
      "outputs": []
    },
    {
      "cell_type": "code",
      "source": [],
      "metadata": {
        "id": "7UK97bXUbmHW"
      },
      "execution_count": null,
      "outputs": []
    },
    {
      "cell_type": "markdown",
      "source": [
        "# Loops\n",
        "\n"
      ],
      "metadata": {
        "id": "I9LtUm0NfDlG"
      }
    },
    {
      "cell_type": "markdown",
      "source": [
        "## While loops"
      ],
      "metadata": {
        "id": "u_ju7wdOfxEB"
      }
    },
    {
      "cell_type": "code",
      "source": [],
      "metadata": {
        "id": "GDC9oEmTfy90"
      },
      "execution_count": null,
      "outputs": []
    },
    {
      "cell_type": "code",
      "source": [],
      "metadata": {
        "id": "h3iu2-uozuqu"
      },
      "execution_count": null,
      "outputs": []
    },
    {
      "cell_type": "markdown",
      "source": [
        "Write some code to take a series of input values and compute their *average*.\n",
        "* Rather than using 0 to end entry, detect when they enter 'done'.\n",
        "* Report the average to 2 decimal places."
      ],
      "metadata": {
        "id": "T8DBHwkZzpOH"
      }
    },
    {
      "cell_type": "code",
      "source": [],
      "metadata": {
        "id": "-i4zZF9mgj_h"
      },
      "execution_count": null,
      "outputs": []
    },
    {
      "cell_type": "markdown",
      "source": [
        "## **For...in** loops\n",
        "When you *know* the number of times to loop in advance"
      ],
      "metadata": {
        "id": "assEP7B-hs3I"
      }
    },
    {
      "cell_type": "markdown",
      "source": [],
      "metadata": {
        "id": "GLzoWwn4ij-O"
      }
    },
    {
      "cell_type": "code",
      "source": [],
      "metadata": {
        "id": "rDu5Fn3OisSx"
      },
      "execution_count": null,
      "outputs": []
    },
    {
      "cell_type": "code",
      "source": [],
      "metadata": {
        "id": "qwgd8GeRiIH5"
      },
      "execution_count": null,
      "outputs": []
    },
    {
      "cell_type": "code",
      "source": [],
      "metadata": {
        "id": "k3B97tSLh-u6"
      },
      "execution_count": null,
      "outputs": []
    },
    {
      "cell_type": "markdown",
      "source": [
        "Looping through a container (list or other type)\n"
      ],
      "metadata": {
        "id": "laqLytbq0xMp"
      }
    },
    {
      "cell_type": "code",
      "source": [
        "Sixers = ['Joel Embiid', 'James Harden', 'Tobias Harris', 'Tyrese Maxey', 'P.J. Tucker']\n",
        "\n",
        "num_players = len(Sixers)\n",
        "\n",
        "for count in range(num_players):\n",
        "  print(count, Sixers[count])\n"
      ],
      "metadata": {
        "id": "ZTBQeQit04rw"
      },
      "execution_count": null,
      "outputs": []
    },
    {
      "cell_type": "markdown",
      "source": [
        "## Nested loops\n",
        "\n",
        "Number of vowels"
      ],
      "metadata": {
        "id": "RxTKjM6WjCdQ"
      }
    },
    {
      "cell_type": "code",
      "source": [],
      "metadata": {
        "id": "MGPlM4zTjOcu"
      },
      "execution_count": null,
      "outputs": []
    },
    {
      "cell_type": "markdown",
      "source": [
        "Extend our code to detect both upper and lower case vowels."
      ],
      "metadata": {
        "id": "PZO2Aaue0dkZ"
      }
    },
    {
      "cell_type": "code",
      "source": [],
      "metadata": {
        "id": "Te_M0k2IkNib"
      },
      "execution_count": null,
      "outputs": []
    },
    {
      "cell_type": "markdown",
      "source": [
        "## Break and continue\n",
        "\n",
        "* I almost never use `break`\n",
        "* I never use `continue`"
      ],
      "metadata": {
        "id": "ATsBGYGikmkj"
      }
    },
    {
      "cell_type": "code",
      "source": [],
      "metadata": {
        "id": "1vMKQ6UNkqJ_"
      },
      "execution_count": null,
      "outputs": []
    }
  ]
}